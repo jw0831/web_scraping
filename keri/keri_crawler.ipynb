{
 "cells": [
  {
   "cell_type": "code",
   "execution_count": 171,
   "metadata": {},
   "outputs": [],
   "source": [
    "from selenium import webdriver\n",
    "from bs4 import BeautifulSoup\n",
    "from selenium.webdriver.common.by import By\n",
    "import pandas as pd\n",
    "import time\n",
    "import random\n",
    "import os, glob\n",
    "import requests\n",
    "import re\n",
    "from tqdm import tqdm_notebook\n",
    "from tqdm.auto import tqdm\n",
    "import shutil"
   ]
  },
  {
   "cell_type": "code",
   "execution_count": 254,
   "metadata": {},
   "outputs": [
    {
     "name": "stdout",
     "output_type": "stream",
     "text": [
      "c:\\Users\\82109\\Desktop\\crawler\\keri\n"
     ]
    },
    {
     "name": "stderr",
     "output_type": "stream",
     "text": [
      "C:\\Users\\82109\\AppData\\Local\\Temp/ipykernel_21828/3334846129.py:2: DeprecationWarning: executable_path has been deprecated, please pass in a Service object\n",
      "  driver=webdriver.Chrome(\"c:/DevSpace/chromedriver\")\n"
     ]
    }
   ],
   "source": [
    "print(os.getcwd())\n",
    "driver=webdriver.Chrome(\"c:/DevSpace/chromedriver\")"
   ]
  },
  {
   "cell_type": "code",
   "execution_count": 253,
   "metadata": {},
   "outputs": [],
   "source": [
    "# //*[@id=\"p_p_id_EXT_BBS_\"]/div/div/div[4]/a[11]/img\n",
    "다음페이지 = '//*[@id=\"p_p_id_EXT_BBS_\"]/div/div/div[4]/a[13]/img'\n",
    "# 다음페이지_클릭 = driver.find_element(by=By.XPATH, value=다음페이지).click()\n",
    "이전페이지 = '//*[@id=\"p_p_id_EXT_BBS_\"]/div/div/div[4]/a[2]/img'\n",
    "# 이전페이지_클릭 = driver.find_element(by=By.XPATH, value=이전페이지).click()\n",
    "\n",
    "연구자료_xpath = '//*[@id=\"gnb\"]/ul/li[1]/a/img'\n",
    "# 연구자료_클릭 = driver.find_element(by=By.XPATH, value=연구자료_xpath).click()\n",
    "주제별보고서_xpath = '//*[@id=\"snb\"]/ul/li[3]/a/img'\n",
    "# 주제별보고서_클릭 = driver.find_element(by=By.XPATH, value=주제별보고서_xpath).click()\n",
    "\n",
    "경제_xpath = '//*[@id=\"snb\"]/ul/li[3]/ol/li[1]/a'\n",
    "# 경제_클릭 = driver.find_element(by=By.XPATH, value=경제_xpath).click()\n",
    "산업경영_xpath = '//*[@id=\"snb\"]/ul/li[3]/ol/li[2]/a'\n",
    "# 산업경영_클릭 = driver.find_element(by=By.XPATH, value=산업경영_xpath).click()\n",
    "사회규제제도_xpath = '//*[@id=\"snb\"]/ul/li[3]/ol/li[3]/a'\n",
    "# 사회규제제도_클릭 = driver.find_element(by=By.XPATH, value=사회규제제도_xpath).click()\n",
    "외교안보_xpath = '//*[@id=\"snb\"]/ul/li[3]/ol/li[4]/a'\n",
    "# 외교안보_클릭 = driver.find_element(by=By.XPATH, value=외교안보_xpath).click()\n",
    "\n",
    "# categories_list = [경제_xpath, 산업경영_xpath, 사회규제제도_xpath, 외교안보_xpath]\n",
    "# categories_list"
   ]
  },
  {
   "cell_type": "code",
   "execution_count": 186,
   "metadata": {},
   "outputs": [],
   "source": [
    "# method to get the downloaded file name\n",
    "def getDownLoadedFileName(waitTime):\n",
    "    driver.execute_script(\"window.open()\")\n",
    "    # switch to new tab\n",
    "    driver.switch_to.window(driver.window_handles[-1])\n",
    "    # navigate to chrome downloads\n",
    "    driver.get('chrome://downloads')\n",
    "    # define the endTime\n",
    "    endTime = time.time()+waitTime\n",
    "    while True:\n",
    "        try:\n",
    "            # get downloaded percentage\n",
    "            downloadPercentage = driver.execute_script(\n",
    "                \"return document.querySelector('downloads-manager').shadowRoot.querySelector('#downloadsList downloads-item').shadowRoot.querySelector('#progress').value\")\n",
    "            # check if downloadPercentage is 100 (otherwise the script will keep waiting)\n",
    "            if downloadPercentage == 100:\n",
    "                # return the file name once the download is completed\n",
    "                return driver.execute_script(\"return document.querySelector('downloads-manager').shadowRoot.querySelector('#downloadsList downloads-item').shadowRoot.querySelector('div#content  #file-link').text\")\n",
    "        except:\n",
    "            pass\n",
    "        time.sleep(1)\n",
    "        if time.time() > endTime:\n",
    "            break"
   ]
  },
  {
   "cell_type": "code",
   "execution_count": null,
   "metadata": {},
   "outputs": [],
   "source": [
    "# 따로 작업\n",
    "# 작업중\n",
    "\n",
    "# categories_list = [경제_xpath, 산업경영_xpath, 사회규제제도_xpath, 외교안보_xpath]\n",
    "categories_list = [외교안보_xpath, 사회규제제도_xpath, 산업경영_xpath, 경제_xpath]\n",
    "# category_names = ['경제', '산업경영', '사회규제제도', '외교안보']\n",
    "category_names = ['외교안보', '사회규제제도', '산업경영', '경제']\n",
    "for idx, category in enumerate(categories_list):    \n",
    "    tmp_file_names = pd.DataFrame(columns = {'name':str, 'ori_name':str})\n",
    "    tmp_name = []\n",
    "    tmp_ori_name = []\n",
    "    # 파일 저장 위치 설정\n",
    "        # https://chromedriver.chromium.org/capabilities\n",
    "    chromeOptions = webdriver.ChromeOptions()\n",
    "    if idx == 3:\n",
    "        path = r'C:\\Users\\82109\\Downloads\\krei\\경제'\n",
    "        repath = path.replace('\\\\', '/')\n",
    "        prefs = {\"download.default_directory\" : path, \n",
    "                 \"download.prompt_for_download\": False,\n",
    "                 \"download.directory_upgrade\": True,\n",
    "                 \"safebrowsing.enabled\": True}\n",
    "    elif idx == 2:\n",
    "        path = r'C:\\Users\\82109\\Downloads\\krei\\산업경영'\n",
    "        repath = path.replace('\\\\', '/')\n",
    "        prefs = {\"download.default_directory\" : path, \n",
    "                 \"download.prompt_for_download\": False,\n",
    "                 \"download.directory_upgrade\": True,\n",
    "                 \"safebrowsing.enabled\": True}\n",
    "    elif idx == 1:\n",
    "        path = r'C:\\Users\\82109\\Downloads\\krei\\사회규제제도'\n",
    "        repath = path.replace('\\\\', '/')\n",
    "        prefs = {\"download.default_directory\" : path, \n",
    "                 \"download.prompt_for_download\": False,\n",
    "                 \"download.directory_upgrade\": True,\n",
    "                 \"safebrowsing.enabled\": True}\n",
    "    elif idx == 0:\n",
    "        path = r'C:\\Users\\82109\\Downloads\\krei\\외교안보'\n",
    "        repath = path.replace('\\\\', '/')\n",
    "        prefs = {\"download.default_directory\" : path, \n",
    "                 \"download.prompt_for_download\": False,\n",
    "                 \"download.directory_upgrade\": True,\n",
    "                 \"safebrowsing.enabled\": True}\n",
    "        \n",
    "    chromeOptions.add_experimental_option(\"prefs\",prefs)\n",
    "    chromedriver = \"c:/DevSpace/chromedriver\"\n",
    "    driver = webdriver.Chrome(executable_path=chromedriver, options=chromeOptions)\n",
    "    \n",
    "    url=\"http://www.keri.org/web/www/home\"\n",
    "    driver.get(url)\n",
    "    time.sleep(0.5)\n",
    "    driver.find_element(by=By.XPATH, value=연구자료_xpath).click()\n",
    "    time.sleep(0.5)\n",
    "    driver.find_element(by=By.XPATH, value=주제별보고서_xpath).click()\n",
    "    time.sleep(0.5)\n",
    "    \n",
    "    # for loop 돌며 카테고리 이동 (경제, 산업/경영, 사회/규제/제도, 외교/안보)\n",
    "    driver.find_element(by=By.XPATH, value=category).click()\n",
    "    # page 정보 받아오기\n",
    "    run_flag = True\n",
    "    prev_page = 0\n",
    "    cnt = 1\n",
    "    while run_flag: # 다음페이지 넘어가고 last page 가 다음페이지 눌렀을때 다를 경우\n",
    "        # 페이지 클릭 1 페이지부터 시작해서 다음페이지 누르기로 진행\n",
    "        if cnt == 1:\n",
    "            current_page_num = 1\n",
    "        else:\n",
    "            current_page_num = int(driver.current_url.split('curPage=')[1].split('&')[0])\n",
    "        \n",
    "        try:\n",
    "            list_file_names = driver.find_elements(by=By.XPATH, value = '//*[@id=\"p_p_id_EXT_BBS_\"]/div/div/div[3]/table/tbody')[0].text.split('\\n')\n",
    "        except:\n",
    "            list_file_names = driver.find_elements(by=By.XPATH, value = '//*[@id=\"p_p_id_EXT_BBS_\"]/div/div/div[4]/table/tbody')[0].text.split('\\n')\n",
    "            \n",
    "        if prev_page == current_page_num:\n",
    "            break\n",
    "        else:\n",
    "            # 다운로드 1~ 10 까지 클릭\n",
    "            number_of_pdf = len(driver.find_elements(by=By.XPATH, value = '//*[@id=\"p_p_id_EXT_BBS_\"]/div/div/div[3]/table/tbody')[0].text.split('\\n'))\n",
    "            if number_of_pdf < 10:\n",
    "                stop_idx = number_of_pdf\n",
    "            else:\n",
    "                stop_idx = 0\n",
    "                \n",
    "                \n",
    "            for _idx in range(1, number_of_pdf+1):\n",
    "                pdf_button = f'//*[@id=\"p_p_id_EXT_BBS_\"]/div/div/div[3]/table/tbody/tr[{_idx}]/td[3]/a/img'\n",
    "                driver.find_element(by=By.XPATH, value=pdf_button).click()\n",
    "                \n",
    "                # 다운로드 완료시 까지 대기\n",
    "                downloaded_file_name = getDownLoadedFileName(20)\n",
    "                time.sleep(0.5) # 딜레이\n",
    "                \n",
    "                tmp_name.append(downloaded_file_name)\n",
    "                tmp_ori_name.append(list_file_names[_idx-1]) # 파일명\n",
    "                driver.close() # 다운로드 탭 닫기\n",
    "                driver.switch_to.window(driver.window_handles[0]) # 이전 탭으로 전환\n",
    "                \n",
    "                if _idx == stop_idx:\n",
    "                    run_flag = False\n",
    "                    break\n",
    "        \n",
    "        \n",
    "        if run_flag is False: # 페이지 내부 pdf 수가 10개 미만이거나 다음 페이지가 last_page와 같을 경우\n",
    "            tmp_file_names['name'] = tmp_name\n",
    "            tmp_file_names['ori_name'] =tmp_ori_name\n",
    "            tmp_file_names.to_excel(f'./{category_names[idx]}.xlsx', index=False)\n",
    "            break\n",
    "        else:\n",
    "            prev_page = current_page_num\n",
    "            cnt += 1\n",
    "            driver.find_element(by=By.XPATH, value=다음페이지).click()\n",
    "            \n",
    "    driver.quit()"
   ]
  },
  {
   "cell_type": "code",
   "execution_count": null,
   "metadata": {},
   "outputs": [],
   "source": [
    "# # 외교안보 done\n",
    "# # 사회규제제도 작업\n",
    "\n",
    "# # //*[@id=\"p_p_id_EXT_BBS_\"]/div/div/div[4]/a[11]/img\n",
    "# 다음페이지 = '//*[@id=\"p_p_id_EXT_BBS_\"]/div/div/div[4]/a[11]/img' # 사회규제제도\n",
    "# # 다음페이지_클릭 = driver.find_element(by=By.XPATH, value=다음페이지).click()\n",
    "# 이전페이지 = '//*[@id=\"p_p_id_EXT_BBS_\"]/div/div/div[4]/a[2]/img'\n",
    "# # 이전페이지_클릭 = driver.find_element(by=By.XPATH, value=이전페이지).click()\n",
    "\n",
    "# 연구자료_xpath = '//*[@id=\"gnb\"]/ul/li[1]/a/img'\n",
    "# # 연구자료_클릭 = driver.find_element(by=By.XPATH, value=연구자료_xpath).click()\n",
    "# 주제별보고서_xpath = '//*[@id=\"snb\"]/ul/li[3]/a/img'\n",
    "# # 주제별보고서_클릭 = driver.find_element(by=By.XPATH, value=주제별보고서_xpath).click()\n",
    "\n",
    "# 경제_xpath = '//*[@id=\"snb\"]/ul/li[3]/ol/li[1]/a'\n",
    "# # 경제_클릭 = driver.find_element(by=By.XPATH, value=경제_xpath).click()\n",
    "# 산업경영_xpath = '//*[@id=\"snb\"]/ul/li[3]/ol/li[2]/a'\n",
    "# # 산업경영_클릭 = driver.find_element(by=By.XPATH, value=산업경영_xpath).click()\n",
    "# 사회규제제도_xpath = '//*[@id=\"snb\"]/ul/li[3]/ol/li[3]/a'\n",
    "# # 사회규제제도_클릭 = driver.find_element(by=By.XPATH, value=사회규제제도_xpath).click()\n",
    "# 외교안보_xpath = '//*[@id=\"snb\"]/ul/li[3]/ol/li[4]/a'\n",
    "# # 외교안보_클릭 = driver.find_element(by=By.XPATH, value=외교안보_xpath).click()\n",
    "\n",
    "# 작업인덱스 = 1\n",
    "# # categories_list = [경제_xpath, 산업경영_xpath, 사회규제제도_xpath, 외교안보_xpath]\n",
    "# categories_list = [외교안보_xpath, 사회규제제도_xpath, 산업경영_xpath, 경제_xpath]\n",
    "# # category_names = ['경제', '산업경영', '사회규제제도', '외교안보']\n",
    "# category_names = ['외교안보', '사회규제제도', '산업경영', '경제']\n",
    "\n",
    "# category = categories_list[작업인덱스]\n",
    "# # for idx, category in enumerate(categories_list):    \n",
    "# tmp_file_names = pd.DataFrame(columns = {'name':str, 'ori_name':str})\n",
    "# tmp_name = []\n",
    "# tmp_ori_name = []\n",
    "# # 파일 저장 위치 설정\n",
    "#     # https://chromedriver.chromium.org/capabilities\n",
    "# chromeOptions = webdriver.ChromeOptions()\n",
    "# if 작업인덱스 == 3:\n",
    "#     path = r'C:\\Users\\82109\\Downloads\\krei\\경제'\n",
    "#     repath = path.replace('\\\\', '/')\n",
    "#     prefs = {\"download.default_directory\" : path, \n",
    "#              \"download.prompt_for_download\": False,\n",
    "#              \"download.directory_upgrade\": True,\n",
    "#              \"safebrowsing.enabled\": True}\n",
    "# elif 작업인덱스 == 2:\n",
    "#     path = r'C:\\Users\\82109\\Downloads\\krei\\산업경영'\n",
    "#     repath = path.replace('\\\\', '/')\n",
    "#     prefs = {\"download.default_directory\" : path, \n",
    "#              \"download.prompt_for_download\": False,\n",
    "#              \"download.directory_upgrade\": True,\n",
    "#              \"safebrowsing.enabled\": True}\n",
    "# elif 작업인덱스 == 1:\n",
    "#     path = r'C:\\Users\\82109\\Downloads\\krei\\사회규제제도'\n",
    "#     repath = path.replace('\\\\', '/')\n",
    "#     prefs = {\"download.default_directory\" : path, \n",
    "#              \"download.prompt_for_download\": False,\n",
    "#              \"download.directory_upgrade\": True,\n",
    "#              \"safebrowsing.enabled\": True}\n",
    "# elif 작업인덱스 == 0:\n",
    "#     path = r'C:\\Users\\82109\\Downloads\\krei\\외교안보'\n",
    "#     repath = path.replace('\\\\', '/')\n",
    "#     prefs = {\"download.default_directory\" : path, \n",
    "#              \"download.prompt_for_download\": False,\n",
    "#              \"download.directory_upgrade\": True,\n",
    "#              \"safebrowsing.enabled\": True}\n",
    "\n",
    "# chromeOptions.add_experimental_option(\"prefs\",prefs)\n",
    "# chromedriver = \"c:/DevSpace/chromedriver\"\n",
    "# driver = webdriver.Chrome(executable_path=chromedriver, options=chromeOptions)\n",
    "\n",
    "# url=\"http://www.keri.org/web/www/home\"\n",
    "# driver.get(url)\n",
    "# time.sleep(0.5)\n",
    "# driver.find_element(by=By.XPATH, value=연구자료_xpath).click()\n",
    "# time.sleep(0.5)\n",
    "# driver.find_element(by=By.XPATH, value=주제별보고서_xpath).click()\n",
    "# time.sleep(0.5)\n",
    "\n",
    "# # for loop 돌며 카테고리 이동 (경제, 산업/경영, 사회/규제/제도, 외교/안보)\n",
    "# driver.find_element(by=By.XPATH, value=category).click()\n",
    "# # page 정보 받아오기\n",
    "# run_flag = True\n",
    "# prev_page = 0\n",
    "# cnt = 1\n",
    "# while run_flag: # 다음페이지 넘어가고 last page 가 다음페이지 눌렀을때 다를 경우\n",
    "#     # 페이지 클릭 1 페이지부터 시작해서 다음페이지 누르기로 진행\n",
    "#     if cnt == 1:\n",
    "#         current_page_num = 1\n",
    "#     else:\n",
    "#         current_page_num = int(driver.current_url.split('curPage=')[1].split('&')[0])\n",
    "    \n",
    "#     try: # 파일 버튼이 없는 경우\n",
    "#         list_file_names = driver.find_elements(by=By.XPATH, value = '//*[@id=\"p_p_id_EXT_BBS_\"]/div/div/div[3]/table/tbody')[0].text.split('\\n')\n",
    "#         if prev_page == current_page_num:\n",
    "#             break\n",
    "#         else:\n",
    "#             # 다운로드 1~ 10 까지 클릭\n",
    "#             number_of_pdf = len(driver.find_elements(by=By.XPATH, value = '//*[@id=\"p_p_id_EXT_BBS_\"]/div/div/div[3]/table/tbody')[0].text.split('\\n'))\n",
    "#             if number_of_pdf < 10:\n",
    "#                 stop_idx = number_of_pdf\n",
    "#             else:\n",
    "#                 stop_idx = 0\n",
    "                \n",
    "                \n",
    "#             for _idx in range(1, number_of_pdf+1):\n",
    "#                 pdf_button = f'//*[@id=\"p_p_id_EXT_BBS_\"]/div/div/div[3]/table/tbody/tr[{_idx}]/td[3]/a/img'\n",
    "#                 driver.find_element(by=By.XPATH, value=pdf_button).click()\n",
    "                \n",
    "#                 # 다운로드 완료시 까지 대기\n",
    "#                 downloaded_file_name = getDownLoadedFileName(20)\n",
    "#                 time.sleep(0.5) # 딜레이\n",
    "                \n",
    "#                 tmp_name.append(downloaded_file_name)\n",
    "#                 tmp_ori_name.append(list_file_names[_idx-1]) # 파일명\n",
    "#                 driver.close() # 다운로드 탭 닫기\n",
    "#                 driver.switch_to.window(driver.window_handles[0]) # 이전 탭으로 전환\n",
    "                \n",
    "#                 if _idx == stop_idx:\n",
    "#                     run_flag = False\n",
    "#                     break\n",
    "        \n",
    "        \n",
    "#         if run_flag is False: # 페이지 내부 pdf 수가 10개 미만이거나 다음 페이지가 last_page와 같을 경우\n",
    "#             tmp_file_names['name'] = tmp_name\n",
    "#             tmp_file_names['ori_name'] =tmp_ori_name\n",
    "#             tmp_file_names.to_excel(f'./{category_names[작업인덱스]}.xlsx', index=False)\n",
    "#             break\n",
    "#         else:\n",
    "#             prev_page = current_page_num\n",
    "#             cnt += 1\n",
    "#             driver.find_element(by=By.XPATH, value=다음페이지).click()\n",
    "        \n",
    "#     except:\n",
    "#         # 이 경우는 pdf 파일이 여러개 들어있는 파일 버튼이 있어서 그럼\n",
    "#         list_file_names = driver.find_elements(by=By.XPATH, value = '//*[@id=\"p_p_id_EXT_BBS_\"]/div/div/div[4]/table/tbody')[0].text.split('\\n')\n",
    "        \n",
    "#         if prev_page == current_page_num:\n",
    "#             break\n",
    "#         else:\n",
    "#             # 다운로드 1~ 10 까지 클릭\n",
    "#             number_of_pdf = len(driver.find_elements(by=By.XPATH, value = '//*[@id=\"p_p_id_EXT_BBS_\"]/div/div/div[3]/table/tbody')[0].text.split('\\n'))\n",
    "#             if number_of_pdf < 10:\n",
    "#                 stop_idx = number_of_pdf\n",
    "#             else:\n",
    "#                 stop_idx = 0\n",
    "                \n",
    "                \n",
    "#             for _idx in range(1, number_of_pdf+1):\n",
    "#                 pdf_button = f'//*[@id=\"p_p_id_EXT_BBS_\"]/div/div/div[3]/table/tbody/tr[{_idx}]/td[3]/a/img'\n",
    "#                 driver.find_element(by=By.XPATH, value=pdf_button).click()\n",
    "                \n",
    "#                 # 다운로드 완료시 까지 대기\n",
    "#                 downloaded_file_name = getDownLoadedFileName(20)\n",
    "#                 time.sleep(0.5) # 딜레이\n",
    "                \n",
    "#                 tmp_name.append(downloaded_file_name)\n",
    "#                 tmp_ori_name.append(list_file_names[_idx-1]) # 파일명\n",
    "#                 driver.close() # 다운로드 탭 닫기\n",
    "#                 driver.switch_to.window(driver.window_handles[0]) # 이전 탭으로 전환\n",
    "                \n",
    "#                 if _idx == stop_idx:\n",
    "#                     run_flag = False\n",
    "#                     break\n",
    "        \n",
    "        \n",
    "#         if run_flag is False: # 페이지 내부 pdf 수가 10개 미만이거나 다음 페이지가 last_page와 같을 경우\n",
    "#             tmp_file_names['name'] = tmp_name\n",
    "#             tmp_file_names['ori_name'] =tmp_ori_name\n",
    "#             tmp_file_names.to_excel(f'./{category_names[작업인덱스]}.xlsx', index=False)\n",
    "#             break\n",
    "#         else:\n",
    "#             prev_page = current_page_num\n",
    "#             cnt += 1\n",
    "#             driver.find_element(by=By.XPATH, value=다음페이지).click()\n",
    "            \n",
    "# driver.quit()"
   ]
  },
  {
   "cell_type": "code",
   "execution_count": 326,
   "metadata": {},
   "outputs": [
    {
     "name": "stderr",
     "output_type": "stream",
     "text": [
      "C:\\Users\\82109\\AppData\\Local\\Temp/ipykernel_21828/1608008612.py:55: DeprecationWarning: executable_path has been deprecated, please pass in a Service object\n",
      "  driver = webdriver.Chrome(executable_path=chromedriver, options=chromeOptions)\n"
     ]
    },
    {
     "name": "stdout",
     "output_type": "stream",
     "text": [
      "경제의 전체 페이지 수: 68\n"
     ]
    }
   ],
   "source": [
    "#####################\n",
    "# Author : KimJinWon\n",
    "#####################\n",
    "# 작업중\n",
    "작업인덱스 = 3\n",
    "# 각 보고서 링크별 작업\n",
    "경제페이지 = 'http://www.keri.org/web/www/research_03_01_01' # 경제\n",
    "산업페이지 = 'http://www.keri.org/web/www/research_03_02_01' # 산업/경영\n",
    "사회페이지 = 'http://www.keri.org/web/www/research_03_03_01' # 사회/규제/제도\n",
    "외교페이지 = 'http://www.keri.org/web/www/research_03_04_01' # 외교/안보\n",
    "############\n",
    "page_num = 1\n",
    "addi_page = f'?p_p_id=EXT_BBS&p_p_lifecycle=0&p_p_state=normal&p_p_mode=view&p_p_col_id=column-1&p_p_col_pos=1&p_p_col_count=2&_EXT_BBS_struts_action=%2Fext%2Fbbs%2Fview&_EXT_BBS_sCategory=&_EXT_BBS_sKeyType=&_EXT_BBS_sKeyword=&_EXT_BBS_curPage={page_num}&_EXT_BBS_optKeyType1=&_EXT_BBS_optKeyType2=&_EXT_BBS_optKeyword1=&_EXT_BBS_optKeyword2=&_EXT_BBS_sLayoutId=0'\n",
    "# driver.get(외교페이지+addi_page)\n",
    "############\n",
    "category_names = ['외교안보', '사회규제제도', '산업경영', '경제']\n",
    "category_pages = [외교페이지, 사회페이지, 산업페이지, 경제페이지]\n",
    "category = categories_list[작업인덱스]\n",
    "\n",
    "# 파일 정보 저장\n",
    "tmp_file_names = pd.DataFrame(columns = {'name':str, 'ori_name':str})\n",
    "tmp_name = []\n",
    "tmp_ori_name = []\n",
    "# 파일 저장 위치 설정\n",
    "    # https://chromedriver.chromium.org/capabilities\n",
    "chromeOptions = webdriver.ChromeOptions()\n",
    "if 작업인덱스 == 3:\n",
    "    path = r'C:\\Users\\82109\\Downloads\\krei\\경제'\n",
    "    repath = path.replace('\\\\', '/')\n",
    "    prefs = {\"download.default_directory\" : path, \n",
    "             \"download.prompt_for_download\": False,\n",
    "             \"download.directory_upgrade\": True,\n",
    "             \"safebrowsing.enabled\": True}\n",
    "elif 작업인덱스 == 2:\n",
    "    path = r'C:\\Users\\82109\\Downloads\\krei\\산업경영'\n",
    "    repath = path.replace('\\\\', '/')\n",
    "    prefs = {\"download.default_directory\" : path, \n",
    "             \"download.prompt_for_download\": False,\n",
    "             \"download.directory_upgrade\": True,\n",
    "             \"safebrowsing.enabled\": True}\n",
    "elif 작업인덱스 == 1:\n",
    "    path = r'C:\\Users\\82109\\Downloads\\krei\\사회규제제도'\n",
    "    repath = path.replace('\\\\', '/')\n",
    "    prefs = {\"download.default_directory\" : path, \n",
    "             \"download.prompt_for_download\": False,\n",
    "             \"download.directory_upgrade\": True,\n",
    "             \"safebrowsing.enabled\": True}\n",
    "elif 작업인덱스 == 0:\n",
    "    path = r'C:\\Users\\82109\\Downloads\\krei\\외교안보'\n",
    "    repath = path.replace('\\\\', '/')\n",
    "    prefs = {\"download.default_directory\" : path, \n",
    "             \"download.prompt_for_download\": False,\n",
    "             \"download.directory_upgrade\": True,\n",
    "             \"safebrowsing.enabled\": True}\n",
    "\n",
    "chromeOptions.add_experimental_option(\"prefs\",prefs)\n",
    "chromedriver = \"c:/DevSpace/chromedriver\"\n",
    "driver = webdriver.Chrome(executable_path=chromedriver, options=chromeOptions)\n",
    "###################################################################################\n",
    "driver.get(category_pages[작업인덱스]+addi_page)\n",
    "time.sleep(0.5)\n",
    "전체_페이지수 = int(driver.find_elements(by=By.XPATH, value= '//*[@id=\"p_p_id_EXT_BBS_\"]/div/div/div[2]/div[1]/dl/dd[2]')[0].text.split('/')[1])\n",
    "print(f'{category_names[작업인덱스]}의 전체 페이지 수: {전체_페이지수}')\n",
    "\n",
    "start_page = 16\n",
    "for page in range(start_page, 전체_페이지수+1):\n",
    "    if page == 1:\n",
    "        # 현제 페이지에서 작업\n",
    "        pass\n",
    "    else:\n",
    "        next_page_add = f'?p_p_id=EXT_BBS&p_p_lifecycle=0&p_p_state=normal&p_p_mode=view&p_p_col_id=column-1&p_p_col_pos=1&p_p_col_count=2&_EXT_BBS_struts_action=%2Fext%2Fbbs%2Fview&_EXT_BBS_sCategory=&_EXT_BBS_sKeyType=&_EXT_BBS_sKeyword=&_EXT_BBS_curPage={page}&_EXT_BBS_optKeyType1=&_EXT_BBS_optKeyType2=&_EXT_BBS_optKeyword1=&_EXT_BBS_optKeyword2=&_EXT_BBS_sLayoutId=0'\n",
    "        driver.get(category_pages[작업인덱스]+next_page_add)\n",
    "    \n",
    "    # 파일 리스트 가져오기\n",
    "    list_file_names = driver.find_elements(by=By.CSS_SELECTOR, value = \"#p_p_id_EXT_BBS_ > div > div > div.bbs > table > tbody\")[0].text.split('\\n')    \n",
    "    number_of_pdf = len(list_file_names)\n",
    "    for _idx in range(1, number_of_pdf+1):\n",
    "        pdf_button = f'#p_p_id_EXT_BBS_ > div > div > div.bbs > table > tbody > tr:nth-child({_idx}) > td:nth-child(3) > a > img'\n",
    "        try:\n",
    "            driver.find_element(by=By.CSS_SELECTOR, value=pdf_button).click() # 다운로드 버튼 클릭\n",
    "            # 여기서 폴더를 눌러서 새 창이 뜬 경우를 봐야함\n",
    "            if len(driver.window_handles) < 2: # 창이 하나인 경우임\n",
    "            # 다운로드 완료시 까지 대기\n",
    "                downloaded_file_name = getDownLoadedFileName(10)\n",
    "                time.sleep(0.5)\n",
    "                tmp_name.append(downloaded_file_name)\n",
    "                # 이 파일명은 폴더를 받을때 동일하게 들어가게 하면 됨\n",
    "                tmp_ori_name.append(list_file_names[_idx-1]) # 파일명\n",
    "                driver.close() # 다운로드 탭 닫기\n",
    "                driver.switch_to.window(driver.window_handles[0]) # 이전 탭으로 전환\n",
    "            elif len(driver.window_handles) == 2:\n",
    "                driver.switch_to.window(driver.window_handles[1]) # 새로운 탭으로 전환\n",
    "                number_of_files = len(driver.find_elements(by=By.CSS_SELECTOR, value= '#container > div > div > div')[0].text.split('\\n'))\n",
    "                for file_num in range(1, number_of_files+1):\n",
    "                # file_num 1 부터 시작\n",
    "                    file_button = f'#container > div > div > div > ul > li:nth-child({file_num}) > a'\n",
    "                    driver.find_element(by=By.CSS_SELECTOR, value=file_button).click()\n",
    "                    downloaded_file_name = getDownLoadedFileName(10)\n",
    "                    time.sleep(0.5)\n",
    "                    tmp_name.append(downloaded_file_name)\n",
    "                    tmp_ori_name.append(list_file_names[_idx-1]) # 파일명\n",
    "                    driver.close() # 다운로드 탭 닫기\n",
    "                    driver.switch_to.window(driver.window_handles[1])\n",
    "                    \n",
    "                driver.close() # 창 닫기\n",
    "                driver.switch_to.window(driver.window_handles[0]) # 이전 탭으로 전환\n",
    "        \n",
    "        except Exception as e: # pdf 다운로드 링크가 망가졌을 경우\n",
    "            driver.execute_script(\"window.history.go(-1)\")\n",
    "            \n",
    "tmp_file_names['name'] = tmp_name\n",
    "tmp_file_names['ori_name'] =tmp_ori_name\n",
    "tmp_file_names.to_excel(f'./{category_names[작업인덱스]}.xlsx', index=False)\n",
    "        \n",
    "driver.quit()"
   ]
  },
  {
   "cell_type": "code",
   "execution_count": 320,
   "metadata": {},
   "outputs": [],
   "source": [
    "tmp_file_names['name'] = tmp_name\n",
    "tmp_file_names['ori_name'] =tmp_ori_name\n",
    "tmp_file_names.to_excel(f'./{category_names[작업인덱스]}.xlsx', index=False)"
   ]
  },
  {
   "cell_type": "code",
   "execution_count": 313,
   "metadata": {},
   "outputs": [
    {
     "data": {
      "text/plain": [
       "['CDwindow-F47CD849E8889D5B63BE902E8DCDCB4A']"
      ]
     },
     "execution_count": 313,
     "metadata": {},
     "output_type": "execute_result"
    }
   ],
   "source": [
    "driver.window_handles"
   ]
  },
  {
   "cell_type": "code",
   "execution_count": 262,
   "metadata": {},
   "outputs": [
    {
     "data": {
      "text/plain": [
       "'10 01. 안정적 복권기금확보를 위한 복권정책 및 제도 개선... 곽만순 외 2005.12.30 36497\\n9 고령화의 경제적 파급효과와 대응과제II 이수희 외 2005.08.10 89646\\n8 04. 퇴직의사결정의 자율성을 보장하기 위한 연금수급제도... 이정우 2005.06.30 10131\\n7 한국 인구고령화의 경제적 효과 남주하 외 2004.03.16 66272\\n6 고령화의 경제적 파급효과와 대응과제 이수희 외 2004.01.20 85987\\n5 한국농업의 발전과 기업역할의 모색 권영민 외 2003.11.03 20158\\n4 고용보험운영기구에 대한 연구 박성준 1994.11.25 13723\\n3 우리나라 가구소득불평등의 현황과 요인분석 유종구 1989.12.30 10184\\n2 기업의 사회봉사 KERI 1984.09.01 12653\\n1 조세부담의 측정과 적정부담율에 관한 연구 한승수 1982.06.01 21640'"
      ]
     },
     "execution_count": 262,
     "metadata": {},
     "output_type": "execute_result"
    }
   ],
   "source": [
    "#p_p_id_EXT_BBS_ > div > div > div.bbs > table > tbody\n",
    "#p_p_id_EXT_BBS_ > div > div > div.bbs > table > tbody\n",
    "\n",
    "#폴더 CSS_SELECTOR\n",
    "#p_p_id_EXT_BBS_ > div > div > div.bbs > table > tbody > tr:nth-child(9) > td:nth-child(3) > a > img\n",
    "#p_p_id_EXT_BBS_ > div > div > div.bbs > table > tbody > tr:nth-child(8) > td:nth-child(3) > a > img\n",
    "# x path\n",
    "# //*[@id=\"p_p_id_EXT_BBS_\"]/div/div/div[4]/table/tbody/tr[9]/td[3]/a/img   # 폴더 세번째 div에 4가 들어감 -> 폴더 아닌 리스트는 3임 그래서 CSS_SELECTOR를 사용하면 해결됨\n",
    "# //*[@id=\"p_p_id_EXT_BBS_\"]/div/div/div[4]/table/tbody/tr[8]/td[3]/a/img   # pdf\n",
    "driver.find_elements(by=By.CSS_SELECTOR, value = \"#p_p_id_EXT_BBS_ > div > div > div.bbs > table > tbody\")[0].text"
   ]
  },
  {
   "cell_type": "code",
   "execution_count": 288,
   "metadata": {},
   "outputs": [],
   "source": [
    "num = 9\n",
    "# pdf_button = f'//*[@id=\"p_p_id_EXT_BBS_\"]/div/div/div[4]/table/tbody/tr[{num}]/td[3]/a/img'\n",
    "# driver.find_element(by=By.XPATH, value=pdf_button).click()\n",
    "pdf_button = f'#p_p_id_EXT_BBS_ > div > div > div.bbs > table > tbody > tr:nth-child({num}) > td:nth-child(3) > a > img'\n",
    "driver.find_element(by=By.CSS_SELECTOR, value=pdf_button).click()"
   ]
  },
  {
   "cell_type": "code",
   "execution_count": null,
   "metadata": {},
   "outputs": [],
   "source": [
    "# 팝업창 (여기부터 하기 )\n",
    " # 사회 규제 제도 페이지 8부터 가져오기\n",
    "#  그다음 산업 경영, 경제\n",
    " \n",
    "# driver.find_elements(by=By.XPATH, value = '//*[@id=\"container\"]/div/div/div/ul')\n",
    "# driver.find_element_by_css_selector(\"#container > div > div > div > ul\")\n",
    "\n",
    "# //*[@id=\"container\"]/div/div/div/ul/li[1]/a\n",
    "# 창 전환 되는 지 확인\n",
    "\n",
    "# driver.switch_to.alert()\n",
    "window_after = driver.window_handles[1]\n",
    "driver.switch_to.window(window_after) # 된다 ~~~\n",
    "driver.find_element_by_css_selector('#container > div > div > div').text"
   ]
  },
  {
   "cell_type": "code",
   "execution_count": 292,
   "metadata": {},
   "outputs": [
    {
     "name": "stdout",
     "output_type": "stream",
     "text": [
      "opened windows length:  2\n"
     ]
    }
   ],
   "source": [
    "windows = driver.window_handles \n",
    "print(\"opened windows length: \", len(windows))\n",
    "driver.switch_to.window(windows[1]) # 창 전환"
   ]
  },
  {
   "cell_type": "code",
   "execution_count": 306,
   "metadata": {},
   "outputs": [],
   "source": [
    "number_of_files = len(driver.find_elements(by=By.CSS_SELECTOR, value= '#container > div > div > div')[0].text.split('\\n'))\n",
    "number_of_files\n",
    "file_num = 3 # 1 부터 시작\n",
    "file_button = f'#container > div > div > div > ul > li:nth-child({file_num}) > a'\n",
    "driver.find_element(by=By.CSS_SELECTOR, value=file_button).click()"
   ]
  },
  {
   "cell_type": "code",
   "execution_count": 307,
   "metadata": {},
   "outputs": [],
   "source": [
    "driver.close() # 창 닫기"
   ]
  },
  {
   "cell_type": "code",
   "execution_count": 243,
   "metadata": {},
   "outputs": [],
   "source": [
    "tmp_file_names['name'] = tmp_name\n",
    "tmp_file_names['ori_name'] =tmp_ori_name\n",
    "tmp_file_names.to_excel(f'./{category_names[작업인덱스]}_page7까지.xlsx', index=False)"
   ]
  },
  {
   "cell_type": "code",
   "execution_count": 221,
   "metadata": {},
   "outputs": [
    {
     "data": {
      "text/plain": [
       "['403 KERI Economic Bulletin (Aug. 20... 한국경제연... 2012.09.04 57919',\n",
       " '402 한국 및 세계경제 긴급진단 – 글로벌 경기침체가 한국경제... 변양규 외 2012.09.03 25325',\n",
       " '401 KERI 경제전망과 정책과제 2012년 8월호 [Vol.... 한국경제연... 2012.08.31 60970',\n",
       " '400 스펙초월 청년취업센터 운영 방안에 대한 제언 변양규 외 2012.08.06 23394',\n",
       " '399 복지공약 비용추정 및 시사점 조경엽 외 2012.07.27 46707',\n",
       " '398 대기업 성장의 협력기업 낙수효과 분석 - 자동차 · 조선... 이병기 2012.07.25 37167',\n",
       " '397 유럽위기 확산이 한국 경제에 미치는 영향 김창배 외 2012.07.24 43598',\n",
       " '396 경제민주화, 어떻게 할 것인가: 쟁점별 고찰 유진성 외 2012.07.10 20501',\n",
       " '395 사회통합센터 출범기념 정책토론회: 왜, 사회통합(Soci... 현진권 2012.07.05 13003',\n",
       " '394 계열사 출자에 따른 과세에 대한 논의 및 영향분석 연구 황상현 외 2012.07.05 32949']"
      ]
     },
     "execution_count": 221,
     "metadata": {},
     "output_type": "execute_result"
    }
   ],
   "source": [
    "# driver.find_elements(by=By.XPATH, value = '//*[@id=\"p_p_id_EXT_BBS_\"]/div/div/div[3]/table/tbody')\n",
    "\n",
    "# //*[@id=\"p_p_id_EXT_BBS_\"]/div/div/div[3]/table/tbody\n",
    "driver.find_elements(by=By.XPATH, value = '//*[@id=\"p_p_id_EXT_BBS_\"]/div/div/div[4]/table/tbody')[0].text.split('\\n')"
   ]
  },
  {
   "cell_type": "markdown",
   "metadata": {},
   "source": [
    "# backup 본"
   ]
  },
  {
   "cell_type": "code",
   "execution_count": null,
   "metadata": {},
   "outputs": [],
   "source": [
    "# for idx, category in enumerate(categories_list):    \n",
    "#     # 파일 저장 위치 설정\n",
    "#         # https://chromedriver.chromium.org/capabilities\n",
    "#     chromeOptions = webdriver.ChromeOptions()\n",
    "#     if idx == 0:\n",
    "#         path = r'C:\\Users\\82109\\Downloads\\krei\\경제'\n",
    "#         repath = path.replace('\\\\', '/')\n",
    "#         prefs = {\"download.default_directory\" : path, \n",
    "#                  \"download.prompt_for_download\": False,\n",
    "#                  \"download.directory_upgrade\": True,\n",
    "#                  \"safebrowsing.enabled\": True}\n",
    "#     elif idx == 1:\n",
    "#         path = r'C:\\Users\\82109\\Downloads\\krei\\산업경영'\n",
    "#         repath = path.replace('\\\\', '/')\n",
    "#         prefs = {\"download.default_directory\" : path, \n",
    "#                  \"download.prompt_for_download\": False,\n",
    "#                  \"download.directory_upgrade\": True,\n",
    "#                  \"safebrowsing.enabled\": True}\n",
    "#     elif idx == 2:\n",
    "#         path = r'C:\\Users\\82109\\Downloads\\krei\\사회규제제도'\n",
    "#         repath = path.replace('\\\\', '/')\n",
    "#         prefs = {\"download.default_directory\" : path, \n",
    "#                  \"download.prompt_for_download\": False,\n",
    "#                  \"download.directory_upgrade\": True,\n",
    "#                  \"safebrowsing.enabled\": True}\n",
    "#     elif idx == 3:\n",
    "#         path = r'C:\\Users\\82109\\Downloads\\krei\\외교안보'\n",
    "#         repath = path.replace('\\\\', '/')\n",
    "#         prefs = {\"download.default_directory\" : path, \n",
    "#                  \"download.prompt_for_download\": False,\n",
    "#                  \"download.directory_upgrade\": True,\n",
    "#                  \"safebrowsing.enabled\": True}\n",
    "        \n",
    "#     chromeOptions.add_experimental_option(\"prefs\",prefs)\n",
    "#     chromedriver = \"c:/DevSpace/chromedriver\"\n",
    "#     driver = webdriver.Chrome(executable_path=chromedriver, options=chromeOptions)\n",
    "    \n",
    "#     url=\"http://www.keri.org/web/www/home\"\n",
    "#     driver.get(url)\n",
    "#     time.sleep(0.5)\n",
    "#     driver.find_element(by=By.XPATH, value=연구자료_xpath).click()\n",
    "#     time.sleep(0.5)\n",
    "#     driver.find_element(by=By.XPATH, value=주제별보고서_xpath).click()\n",
    "#     time.sleep(0.5)\n",
    "    \n",
    "#     # for loop 돌며 카테고리 이동 (경제, 산업/경영, 사회/규제/제도, 외교/안보)\n",
    "#     driver.find_element(by=By.XPATH, value=category).click()\n",
    "#     # page 정보 받아오기\n",
    "#     run_flag = True\n",
    "#     prev_page = 0\n",
    "#     cnt = 1\n",
    "#     while run_flag: # 다음페이지 넘어가고 last page 가 다음페이지 눌렀을때 다를 경우\n",
    "#         # 페이지 클릭 1 페이지부터 시작해서 다음페이지 누르기로 진행\n",
    "#         if cnt == 1:\n",
    "#             current_page_num = 1\n",
    "#         else:\n",
    "#             current_page_num = int(driver.current_url.split('curPage=')[1].split('&')[0])\n",
    "        \n",
    "        \n",
    "#         list_file_names = driver.find_elements(by=By.XPATH, value = '//*[@id=\"p_p_id_EXT_BBS_\"]/div/div/div[3]/table/tbody')[0].text.split('\\n')\n",
    "#         if prev_page == current_page_num:\n",
    "#             break\n",
    "#         else:\n",
    "#             # 다운로드 1~ 10 까지 클릭\n",
    "#             number_of_pdf = len(driver.find_elements(by=By.XPATH, value = '//*[@id=\"p_p_id_EXT_BBS_\"]/div/div/div[3]/table/tbody')[0].text.split('\\n'))\n",
    "#             if number_of_pdf < 10:\n",
    "#                 stop_idx = number_of_pdf\n",
    "#             else:\n",
    "#                 stop_idx = 0\n",
    "                \n",
    "                \n",
    "#             for idx in range(1, number_of_pdf+1):\n",
    "#                 pdf_button = f'//*[@id=\"p_p_id_EXT_BBS_\"]/div/div/div[3]/table/tbody/tr[{idx}]/td[3]/a/img'\n",
    "#                 driver.find_element(by=By.XPATH, value=pdf_button).click()\n",
    "                \n",
    "#                 # 다운로드 완료시 까지 대기\n",
    "#                 downloaded_file_name = getDownLoadedFileName(20)\n",
    "#                 time.sleep(1.5) # 딜레이\n",
    "#                 driver.close() # 다운로드 탭 닫기\n",
    "                \n",
    "#                 # 파일명 파싱\n",
    "#                 try:\n",
    "#                     new_file_name = ' '.join(list_file_names[idx-1].split(' ')[1:-3])\n",
    "#                     if '[' in new_file_name:\n",
    "#                         new_file_name = new_file_name.split('[')[0].strip() # 새로운 파일명\n",
    "                        \n",
    "#                     new_file_name = new_file_name + '.pdf'\n",
    "#                     # 파일명 변환 적용\n",
    "#                     os.rename(repath+'/'+downloaded_file_name, repath+'/'+new_file_name) \n",
    "#                     # 이전 탭으로 전환\n",
    "#                     driver.switch_to.window(driver.window_handles[0]) \n",
    "#                 except Exception as e:\n",
    "#                     print(e)\n",
    "#                     print(list_file_names[idx])\n",
    "#                     print(list_file_names[idx].split(' '))\n",
    "#                     driver.switch_to.window(driver.window_handles[0]) \n",
    "#                     pass\n",
    "                \n",
    "                \n",
    "#                 if idx == stop_idx:\n",
    "#                     run_flag = False\n",
    "#                     break\n",
    "        \n",
    "        \n",
    "#         if run_flag is False: # 페이지 내부 pdf 수가 10개 미만이거나 다음 페이지가 last_page와 같을 경우\n",
    "#             break\n",
    "#         else:\n",
    "#             prev_page = current_page_num\n",
    "#             cnt += 1\n",
    "#             driver.find_element(by=By.XPATH, value=다음페이지).click()\n",
    "            \n",
    "#     driver.quit()"
   ]
  },
  {
   "cell_type": "markdown",
   "metadata": {},
   "source": [
    "# 테스트"
   ]
  },
  {
   "cell_type": "code",
   "execution_count": 276,
   "metadata": {},
   "outputs": [
    {
     "data": {
      "text/plain": [
       "62"
      ]
     },
     "execution_count": 276,
     "metadata": {},
     "output_type": "execute_result"
    }
   ],
   "source": [
    "전체_페이지수 = int(driver.find_elements(by=By.XPATH, value= '//*[@id=\"p_p_id_EXT_BBS_\"]/div/div/div[2]/div[1]/dl/dd[2]')[0].text.split('/')[1])\n",
    "전체_페이지수"
   ]
  },
  {
   "cell_type": "code",
   "execution_count": 168,
   "metadata": {},
   "outputs": [
    {
     "data": {
      "text/plain": [
       "'C:/Users/82109/Downloads/krei/경제'"
      ]
     },
     "execution_count": 168,
     "metadata": {},
     "output_type": "execute_result"
    }
   ],
   "source": [
    "repath = path.replace('\\\\', '/')\n",
    "repath"
   ]
  },
  {
   "cell_type": "code",
   "execution_count": 176,
   "metadata": {},
   "outputs": [
    {
     "data": {
      "text/plain": [
       "['-2021  4  .pdf',\n",
       " '-2022  1  .pdf',\n",
       " 'KERI Insight 21-12.pdf',\n",
       " 'KERI Insight 22-06.pdf',\n",
       " 'KERI Insight 22-07.pdf',\n",
       " 'renamed']"
      ]
     },
     "execution_count": 176,
     "metadata": {},
     "output_type": "execute_result"
    }
   ],
   "source": [
    "os.listdir(repath)"
   ]
  },
  {
   "cell_type": "code",
   "execution_count": 177,
   "metadata": {},
   "outputs": [
    {
     "data": {
      "text/plain": [
       "'-2021  4  .pdf'"
      ]
     },
     "execution_count": 177,
     "metadata": {},
     "output_type": "execute_result"
    }
   ],
   "source": [
    "os.listdir(repath)[0]"
   ]
  },
  {
   "cell_type": "code",
   "execution_count": 181,
   "metadata": {},
   "outputs": [],
   "source": [
    "os.rename(repath+'/-2022  1  .pdf', repath+'/renamed'+'/테스트'+'.pdf')"
   ]
  },
  {
   "cell_type": "code",
   "execution_count": null,
   "metadata": {},
   "outputs": [],
   "source": [
    "chromeOptions = webdriver.ChromeOptions()\n",
    "prefs = {\"download.default_directory\" : \"/some/path\"}\n",
    "chromeOptions.add_experimental_option(\"prefs\",prefs)\n",
    "chromedriver = \"path/to/chromedriver.exe\"\n",
    "driver = webdriver.Chrome(executable_path=chromedriver, options=chromeOptions)"
   ]
  },
  {
   "cell_type": "code",
   "execution_count": 323,
   "metadata": {},
   "outputs": [
    {
     "name": "stderr",
     "output_type": "stream",
     "text": [
      "C:\\Users\\82109\\AppData\\Local\\Temp/ipykernel_21828/1324609206.py:9: DeprecationWarning: executable_path has been deprecated, please pass in a Service object\n",
      "  driver = webdriver.Chrome(executable_path=chromedriver, options=chromeOptions)\n"
     ]
    }
   ],
   "source": [
    "# driver.current_url\n",
    "경제페이지 = 'http://www.keri.org/web/www/research_03_01_01' # 경제\n",
    "산업페이지 = 'http://www.keri.org/web/www/research_03_02_01' # 산업/경영\n",
    "사회페이지 = 'http://www.keri.org/web/www/research_03_03_01' # 사회/규제/제도\n",
    "외교페이지 = 'http://www.keri.org/web/www/research_03_04_01' # 외교/안보\n",
    "page_num = 1\n",
    "addi_page = f'?p_p_id=EXT_BBS&p_p_lifecycle=0&p_p_state=normal&p_p_mode=view&p_p_col_id=column-1&p_p_col_pos=1&p_p_col_count=2&_EXT_BBS_struts_action=%2Fext%2Fbbs%2Fview&_EXT_BBS_sCategory=&_EXT_BBS_sKeyType=&_EXT_BBS_sKeyword=&_EXT_BBS_curPage={page_num}&_EXT_BBS_optKeyType1=&_EXT_BBS_optKeyType2=&_EXT_BBS_optKeyword1=&_EXT_BBS_optKeyword2=&_EXT_BBS_sLayoutId=0'\n",
    "\n",
    "driver = webdriver.Chrome(executable_path=chromedriver)\n",
    "driver.get(사회페이지+addi_page)"
   ]
  },
  {
   "cell_type": "code",
   "execution_count": 324,
   "metadata": {},
   "outputs": [],
   "source": [
    "# 뒤로가기\n",
    "driver.execute_script(\"window.history.go(-1)\")"
   ]
  },
  {
   "cell_type": "code",
   "execution_count": 148,
   "metadata": {},
   "outputs": [
    {
     "data": {
      "text/plain": [
       "'68'"
      ]
     },
     "execution_count": 148,
     "metadata": {},
     "output_type": "execute_result"
    }
   ],
   "source": [
    "# driver.find_elements(by=By.XPATH, value = '//*[@id=\"p_p_id_EXT_BBS_\"]/div/div/div[4]/a[10]')[0].text\n",
    "# driver.find_elements(by=By.XPATH, value = '//*[@id=\"p_p_id_EXT_BBS_\"]/div/div/div[4]')[0].text\n",
    "# http://www.keri.org/web/www/research_03_01_01?p_p_id=EXT_BBS&p_p_lifecycle=0&p_p_state=normal&p_p_mode=view&p_p_col_id=column-1&p_p_col_pos=1&p_p_col_count=2&_EXT_BBS_struts_action=%2Fext%2Fbbs%2Fview&_EXT_BBS_sCategory=&_EXT_BBS_sKeyType=&_EXT_BBS_sKeyword=&_EXT_BBS_curPage=68&_EXT_BBS_optKeyType1=&_EXT_BBS_optKeyType2=&_EXT_BBS_optKeyword1=&_EXT_BBS_optKeyword2=&_EXT_BBS_sLayoutId=0\n",
    "\n",
    "# re.split(current_url, 'curPage=')\n",
    "driver.current_url.split('curPage=')[1].split('&')[0]\n",
    "# print(driver.current_url)"
   ]
  },
  {
   "cell_type": "code",
   "execution_count": 89,
   "metadata": {},
   "outputs": [],
   "source": [
    "pages = driver.find_elements(by=By.XPATH, value = '//*[@id=\"p_p_id_EXT_BBS_\"]/div/div/div[4]')[0].text # '1 2 3 4 5 6 7 8 9 10'\n",
    "pages = pages.split(' ') # ['1', '2', '3', '4', '5', '6', '7', '8', '9', '10']\n",
    "pages = list(map(int, pages))\n",
    "first_page = pages[0] # 1\n",
    "last_page = pages[-1] # 10 # last page 에서 다음페이지 클릭 후에도 last page 가 존제하면 stop # 끝까지 와서 다음페이지가 안넘어가는 경우임"
   ]
  },
  {
   "cell_type": "code",
   "execution_count": 104,
   "metadata": {},
   "outputs": [
    {
     "data": {
      "text/plain": [
       "''"
      ]
     },
     "execution_count": 104,
     "metadata": {},
     "output_type": "execute_result"
    }
   ],
   "source": [
    "\n",
    "driver.find_elements(by=By.XPATH, value = '//*[@id=\"p_p_id_EXT_BBS_\"]/div/div/div[3]/table/tbody/tr[6]/td[3]/a')[0].text\n",
    "# //*[@id=\"p_p_id_EXT_BBS_\"]/div/div/div[3]/table/tbody/tr[1]/td[3]/a/img\n",
    "# //*[@id=\"p_p_id_EXT_BBS_\"]/div/div/div[3]/table/tbody/tr[2]/td[3]/a/img\n",
    "# //*[@id=\"p_p_id_EXT_BBS_\"]/div/div/div[3]/table/tbody/tr[10]/td[3]/a/img"
   ]
  },
  {
   "cell_type": "code",
   "execution_count": 190,
   "metadata": {},
   "outputs": [
    {
     "name": "stdout",
     "output_type": "stream",
     "text": [
      "10\n"
     ]
    },
    {
     "data": {
      "text/plain": [
       "['673 국민연금의 문제점과 개혁방안 이용하 2022.07.12 8011',\n",
       " '672 과잉·졸속입법 사례분석 및 시사점 홍완식 2022.07.12 4644',\n",
       " '671 KERI 경제동향과 전망-2022년 1분기 [Vol. 3... 이승석 2022.05.31 27121',\n",
       " '670 KERI 경제동향과 전망-2021년 4분기 [Vol. 3... 이승석 2022.01.13 46612',\n",
       " '669 신성장 산업 규제의 경제적 영향 및 시사점 이규석 2021.12.13 31862',\n",
       " '668 한국경제의 방향과 재정립과 차기정부의 정책과제 조경엽 외 2021.11.29 39488',\n",
       " '667 KERI 경제동향과 전망-2021년 3분기 [Vol. 3... 이승석 2021.09.30 71618',\n",
       " '666 기혼 여성의 경제활동 변화 분석과 시사점 유진성 2021.07.23 49829',\n",
       " '665 KERI 경제동향과 전망-2021년 2분기 [Vol. 3... 이승석 2021.06.30 78112',\n",
       " '664 정부재정 변화에 따른 세대별 순조세부담 전영준 2021.06.04 27910']"
      ]
     },
     "execution_count": 190,
     "metadata": {},
     "output_type": "execute_result"
    }
   ],
   "source": [
    "print(len(driver.find_elements(by=By.XPATH, value = '//*[@id=\"p_p_id_EXT_BBS_\"]/div/div/div[3]/table/tbody')[0].text.split('\\n')))\n",
    "driver.find_elements(by=By.XPATH, value = '//*[@id=\"p_p_id_EXT_BBS_\"]/div/div/div[3]/table/tbody')[0].text.split('\\n')"
   ]
  },
  {
   "cell_type": "code",
   "execution_count": 191,
   "metadata": {},
   "outputs": [],
   "source": [
    "list_file_names = driver.find_elements(by=By.XPATH, value = '//*[@id=\"p_p_id_EXT_BBS_\"]/div/div/div[3]/table/tbody')[0].text.split('\\n')"
   ]
  },
  {
   "cell_type": "code",
   "execution_count": 200,
   "metadata": {},
   "outputs": [
    {
     "data": {
      "text/plain": [
       "'KERI 경제동향과 전망-2022년 1분기'"
      ]
     },
     "execution_count": 200,
     "metadata": {},
     "output_type": "execute_result"
    }
   ],
   "source": [
    "text = ' '.join(list_file_names[2].split(' ')[1:-3])\n",
    "if '[' in text:\n",
    "    text = text.split('[')[0].strip()\n",
    "text"
   ]
  },
  {
   "cell_type": "code",
   "execution_count": 12,
   "metadata": {},
   "outputs": [],
   "source": [
    "# num = 1 ~ 10 그런데 10이 없으면 해당 페이지가 마지막 페이지 -> 다음페이지 중지 -> 다음 주제로 넘어가기\n",
    "# \n",
    "num = 1\n",
    "pdf_button = f'//*[@id=\"p_p_id_EXT_BBS_\"]/div/div/div[3]/table/tbody/tr[{num}]/td[3]/a/img'\n",
    "driver.find_element(by=By.XPATH, value=pdf_button).click()"
   ]
  },
  {
   "cell_type": "code",
   "execution_count": 227,
   "metadata": {},
   "outputs": [],
   "source": [
    "# pdf 말고 파일 버튼 (사회규제제도 페이지 8에서 9번째)\n",
    "num = 9\n",
    "pdf_button = f'//*[@id=\"p_p_id_EXT_BBS_\"]/div/div/div[4]/table/tbody/tr[{num}]/td[3]/a/img'\n",
    "driver.find_element(by=By.XPATH, value=pdf_button).click()\n"
   ]
  },
  {
   "cell_type": "code",
   "execution_count": 248,
   "metadata": {},
   "outputs": [
    {
     "name": "stderr",
     "output_type": "stream",
     "text": [
      "C:\\Users\\82109\\AppData\\Local\\Temp/ipykernel_21828/3989809812.py:11: DeprecationWarning: find_element_by_css_selector is deprecated. Please use find_element(by=By.CSS_SELECTOR, value=css_selector) instead\n",
      "  driver.find_element_by_css_selector('#container > div > div > div').text\n"
     ]
    },
    {
     "data": {
      "text/plain": [
       "'09-84-07-1-1.pdf\\n09-84-07-2-1.pdf\\n09-84-07-3-1.pdf'"
      ]
     },
     "execution_count": 248,
     "metadata": {},
     "output_type": "execute_result"
    }
   ],
   "source": [
    "# 팝업창 (여기부터 하기 )\n",
    " # 사회 규제 제도 페이지 8부터 가져오기\n",
    "#  그다음 산업 경영, 경제\n",
    " \n",
    "# driver.find_elements(by=By.XPATH, value = '//*[@id=\"container\"]/div/div/div/ul')\n",
    "# driver.find_element_by_css_selector(\"#container > div > div > div > ul\")\n",
    "\n",
    "# //*[@id=\"container\"]/div/div/div/ul/li[1]/a\n",
    "# 창 전환 되는 지 확인\n",
    "\n",
    "# driver.switch_to.alert()\n",
    "window_after = driver.window_handles[1]\n",
    "driver.switch_to.window(window_after) # 된다 ~~~\n",
    "driver.find_element_by_css_selector('#container > div > div > div').text"
   ]
  },
  {
   "cell_type": "code",
   "execution_count": 29,
   "metadata": {},
   "outputs": [],
   "source": [
    "# driver.find_elements(By.TAG_NAME, 'p_p_id_EXT_BBS_')\n",
    "# driver.find_element(By.CLASS_NAME, 'current')\n",
    "# <a href=\"http://www.keri.org/web/www/research_03_03_01?p_p_id=EXT_BBS&amp;p_p_lifecycle=0&amp;p_p_state=normal&amp;p_p_mode=view&amp;p_p_col_id=column-1&amp;p_p_col_pos=1&amp;p_p_col_count=2&amp;_EXT_BBS_struts_action=%2Fext%2Fbbs%2Fview&amp;_EXT_BBS_sCategory=&amp;_EXT_BBS_sKeyType=&amp;_EXT_BBS_sKeyword=&amp;_EXT_BBS_curPage=2&amp;_EXT_BBS_optKeyType1=&amp;_EXT_BBS_optKeyType2=&amp;_EXT_BBS_optKeyword1=&amp;_EXT_BBS_optKeyword2=&amp;_EXT_BBS_sLayoutId=0\">2</a>\n",
    "element_copy = '<div class=\"pager no_btn\">\t<a href=\"http://www.keri.org/web/www/research_03_03_01?p_p_id=EXT_BBS&amp;p_p_lifecycle=0&amp;p_p_state=normal&amp;p_p_mode=view&amp;p_p_col_id=column-1&amp;p_p_col_pos=1&amp;p_p_col_count=2&amp;_EXT_BBS_struts_action=%2Fext%2Fbbs%2Fview&amp;_EXT_BBS_sCategory=&amp;_EXT_BBS_sKeyType=&amp;_EXT_BBS_sKeyword=&amp;_EXT_BBS_curPage=1&amp;_EXT_BBS_optKeyType1=&amp;_EXT_BBS_optKeyType2=&amp;_EXT_BBS_optKeyword1=&amp;_EXT_BBS_optKeyword2=&amp;_EXT_BBS_sLayoutId=0\"><img src=\"/html/themes/www/img/common/board/btn_first.gif\" alt=\"처음으로\"></a>\t<a href=\"http://www.keri.org/web/www/research_03_03_01?p_p_id=EXT_BBS&amp;p_p_lifecycle=0&amp;p_p_state=normal&amp;p_p_mode=view&amp;p_p_col_id=column-1&amp;p_p_col_pos=1&amp;p_p_col_count=2&amp;_EXT_BBS_struts_action=%2Fext%2Fbbs%2Fview&amp;_EXT_BBS_sCategory=&amp;_EXT_BBS_sKeyType=&amp;_EXT_BBS_sKeyword=&amp;_EXT_BBS_curPage=1&amp;_EXT_BBS_optKeyType1=&amp;_EXT_BBS_optKeyType2=&amp;_EXT_BBS_optKeyword1=&amp;_EXT_BBS_optKeyword2=&amp;_EXT_BBS_sLayoutId=0\"><img src=\"/html/themes/www/img/common/board/btn_prev.gif\" alt=\"앞으로\"></a>\t<a href=\"#none\" class=\"current\">1</a>\t<a href=\"http://www.keri.org/web/www/research_03_03_01?p_p_id=EXT_BBS&amp;p_p_lifecycle=0&amp;p_p_state=normal&amp;p_p_mode=view&amp;p_p_col_id=column-1&amp;p_p_col_pos=1&amp;p_p_col_count=2&amp;_EXT_BBS_struts_action=%2Fext%2Fbbs%2Fview&amp;_EXT_BBS_sCategory=&amp;_EXT_BBS_sKeyType=&amp;_EXT_BBS_sKeyword=&amp;_EXT_BBS_curPage=2&amp;_EXT_BBS_optKeyType1=&amp;_EXT_BBS_optKeyType2=&amp;_EXT_BBS_optKeyword1=&amp;_EXT_BBS_optKeyword2=&amp;_EXT_BBS_sLayoutId=0\">2</a>\t<a href=\"http://www.keri.org/web/www/research_03_03_01?p_p_id=EXT_BBS&amp;p_p_lifecycle=0&amp;p_p_state=normal&amp;p_p_mode=view&amp;p_p_col_id=column-1&amp;p_p_col_pos=1&amp;p_p_col_count=2&amp;_EXT_BBS_struts_action=%2Fext%2Fbbs%2Fview&amp;_EXT_BBS_sCategory=&amp;_EXT_BBS_sKeyType=&amp;_EXT_BBS_sKeyword=&amp;_EXT_BBS_curPage=3&amp;_EXT_BBS_optKeyType1=&amp;_EXT_BBS_optKeyType2=&amp;_EXT_BBS_optKeyword1=&amp;_EXT_BBS_optKeyword2=&amp;_EXT_BBS_sLayoutId=0\">3</a>\t<a href=\"http://www.keri.org/web/www/research_03_03_01?p_p_id=EXT_BBS&amp;p_p_lifecycle=0&amp;p_p_state=normal&amp;p_p_mode=view&amp;p_p_col_id=column-1&amp;p_p_col_pos=1&amp;p_p_col_count=2&amp;_EXT_BBS_struts_action=%2Fext%2Fbbs%2Fview&amp;_EXT_BBS_sCategory=&amp;_EXT_BBS_sKeyType=&amp;_EXT_BBS_sKeyword=&amp;_EXT_BBS_curPage=4&amp;_EXT_BBS_optKeyType1=&amp;_EXT_BBS_optKeyType2=&amp;_EXT_BBS_optKeyword1=&amp;_EXT_BBS_optKeyword2=&amp;_EXT_BBS_sLayoutId=0\">4</a>\t<a href=\"http://www.keri.org/web/www/research_03_03_01?p_p_id=EXT_BBS&amp;p_p_lifecycle=0&amp;p_p_state=normal&amp;p_p_mode=view&amp;p_p_col_id=column-1&amp;p_p_col_pos=1&amp;p_p_col_count=2&amp;_EXT_BBS_struts_action=%2Fext%2Fbbs%2Fview&amp;_EXT_BBS_sCategory=&amp;_EXT_BBS_sKeyType=&amp;_EXT_BBS_sKeyword=&amp;_EXT_BBS_curPage=5&amp;_EXT_BBS_optKeyType1=&amp;_EXT_BBS_optKeyType2=&amp;_EXT_BBS_optKeyword1=&amp;_EXT_BBS_optKeyword2=&amp;_EXT_BBS_sLayoutId=0\">5</a>\t<a href=\"http://www.keri.org/web/www/research_03_03_01?p_p_id=EXT_BBS&amp;p_p_lifecycle=0&amp;p_p_state=normal&amp;p_p_mode=view&amp;p_p_col_id=column-1&amp;p_p_col_pos=1&amp;p_p_col_count=2&amp;_EXT_BBS_struts_action=%2Fext%2Fbbs%2Fview&amp;_EXT_BBS_sCategory=&amp;_EXT_BBS_sKeyType=&amp;_EXT_BBS_sKeyword=&amp;_EXT_BBS_curPage=6&amp;_EXT_BBS_optKeyType1=&amp;_EXT_BBS_optKeyType2=&amp;_EXT_BBS_optKeyword1=&amp;_EXT_BBS_optKeyword2=&amp;_EXT_BBS_sLayoutId=0\">6</a>\t<a href=\"http://www.keri.org/web/www/research_03_03_01?p_p_id=EXT_BBS&amp;p_p_lifecycle=0&amp;p_p_state=normal&amp;p_p_mode=view&amp;p_p_col_id=column-1&amp;p_p_col_pos=1&amp;p_p_col_count=2&amp;_EXT_BBS_struts_action=%2Fext%2Fbbs%2Fview&amp;_EXT_BBS_sCategory=&amp;_EXT_BBS_sKeyType=&amp;_EXT_BBS_sKeyword=&amp;_EXT_BBS_curPage=7&amp;_EXT_BBS_optKeyType1=&amp;_EXT_BBS_optKeyType2=&amp;_EXT_BBS_optKeyword1=&amp;_EXT_BBS_optKeyword2=&amp;_EXT_BBS_sLayoutId=0\">7</a>\t<a href=\"http://www.keri.org/web/www/research_03_03_01?p_p_id=EXT_BBS&amp;p_p_lifecycle=0&amp;p_p_state=normal&amp;p_p_mode=view&amp;p_p_col_id=column-1&amp;p_p_col_pos=1&amp;p_p_col_count=2&amp;_EXT_BBS_struts_action=%2Fext%2Fbbs%2Fview&amp;_EXT_BBS_sCategory=&amp;_EXT_BBS_sKeyType=&amp;_EXT_BBS_sKeyword=&amp;_EXT_BBS_curPage=8&amp;_EXT_BBS_optKeyType1=&amp;_EXT_BBS_optKeyType2=&amp;_EXT_BBS_optKeyword1=&amp;_EXT_BBS_optKeyword2=&amp;_EXT_BBS_sLayoutId=0\">8</a>\t<a href=\"http://www.keri.org/web/www/research_03_03_01?p_p_id=EXT_BBS&amp;p_p_lifecycle=0&amp;p_p_state=normal&amp;p_p_mode=view&amp;p_p_col_id=column-1&amp;p_p_col_pos=1&amp;p_p_col_count=2&amp;_EXT_BBS_struts_action=%2Fext%2Fbbs%2Fview&amp;_EXT_BBS_sCategory=&amp;_EXT_BBS_sKeyType=&amp;_EXT_BBS_sKeyword=&amp;_EXT_BBS_curPage=2&amp;_EXT_BBS_optKeyType1=&amp;_EXT_BBS_optKeyType2=&amp;_EXT_BBS_optKeyword1=&amp;_EXT_BBS_optKeyword2=&amp;_EXT_BBS_sLayoutId=0\"><img src=\"/html/themes/www/img/common/board/btn_next.gif\" alt=\"이전글\"></a>\t<a href=\"http://www.keri.org/web/www/research_03_03_01?p_p_id=EXT_BBS&amp;p_p_lifecycle=0&amp;p_p_state=normal&amp;p_p_mode=view&amp;p_p_col_id=column-1&amp;p_p_col_pos=1&amp;p_p_col_count=2&amp;_EXT_BBS_struts_action=%2Fext%2Fbbs%2Fview&amp;_EXT_BBS_sCategory=&amp;_EXT_BBS_sKeyType=&amp;_EXT_BBS_sKeyword=&amp;_EXT_BBS_curPage=8&amp;_EXT_BBS_optKeyType1=&amp;_EXT_BBS_optKeyType2=&amp;_EXT_BBS_optKeyword1=&amp;_EXT_BBS_optKeyword2=&amp;_EXT_BBS_sLayoutId=0\"><img src=\"/html/themes/www/img/common/board/btn_last.gif\" alt=\"마지막으로\"></a></div>'\n",
    "response = requests.get(url)\n",
    "soup = BeautifulSoup(response.text, 'html5lib')"
   ]
  },
  {
   "cell_type": "code",
   "execution_count": 128,
   "metadata": {},
   "outputs": [],
   "source": [
    "# //*[@id=\"p_p_id_EXT_BBS_\"]/div/div/div[4]/a[3] #1 page\n",
    "# //*[@id=\"p_p_id_EXT_BBS_\"]/div/div/div[4]/a[4] #2 page\n",
    "# //*[@id=\"p_p_id_EXT_BBS_\"]/div/div/div[4]/a[9]\n",
    "# //*[@id=\"p_p_id_EXT_BBS_\"]/div/div/div[4]/a[12] #10 page\n",
    "# //*[@id=\"p_p_id_EXT_BBS_\"]/div/div/div[4]/a[3]\n",
    "\n",
    "default_num = 2\n",
    "page_num = default_num + 8 # 숫자가 페이지 번호 # 10페이지 까지인데 11을 입력해도 에러는 나지 않음.. \n",
    "page_button = f'//*[@id=\"p_p_id_EXT_BBS_\"]/div/div/div[4]/a[{page_num}]'\n",
    "driver.find_element(by=By.XPATH, value = page_button).click()\n"
   ]
  },
  {
   "cell_type": "code",
   "execution_count": 46,
   "metadata": {},
   "outputs": [
    {
     "data": {
      "text/plain": [
       "[]"
      ]
     },
     "execution_count": 46,
     "metadata": {},
     "output_type": "execute_result"
    }
   ],
   "source": [
    "driver.find_elements(by=By.CLASS_NAME, value = 'div.pager.no_btn')"
   ]
  },
  {
   "cell_type": "code",
   "execution_count": 60,
   "metadata": {},
   "outputs": [
    {
     "name": "stdout",
     "output_type": "stream",
     "text": [
      "1 2 3 4 5 6 7 8 9 10\n"
     ]
    }
   ],
   "source": [
    "t = driver.find_elements(by=By.XPATH, value = '//*[@id=\"p_p_id_EXT_BBS_\"]/div/div/div[4]')\n",
    "for i in t: \n",
    "    print(i.text)"
   ]
  },
  {
   "cell_type": "code",
   "execution_count": 70,
   "metadata": {},
   "outputs": [
    {
     "data": {
      "text/plain": [
       "'1 2 3 4 5 6 7 8 9 10'"
      ]
     },
     "execution_count": 70,
     "metadata": {},
     "output_type": "execute_result"
    }
   ],
   "source": [
    "pages = driver.find_elements(by=By.XPATH, value = '//*[@id=\"p_p_id_EXT_BBS_\"]/div/div/div[4]')[0].text # '1 2 3 4 5 6 7 8 9 10'\n",
    "pages = pages.split(' ') # ['1', '2', '3', '4', '5', '6', '7', '8', '9', '10']\n",
    "first_page = int(pages[0]) # 1\n",
    "last_page = int(pages[-1]) # 10"
   ]
  },
  {
   "cell_type": "code",
   "execution_count": 80,
   "metadata": {},
   "outputs": [
    {
     "name": "stdout",
     "output_type": "stream",
     "text": [
      "1 10\n"
     ]
    }
   ],
   "source": []
  },
  {
   "cell_type": "code",
   "execution_count": null,
   "metadata": {},
   "outputs": [],
   "source": []
  }
 ],
 "metadata": {
  "kernelspec": {
   "display_name": "Python 3.9.7 ('base')",
   "language": "python",
   "name": "python3"
  },
  "language_info": {
   "codemirror_mode": {
    "name": "ipython",
    "version": 3
   },
   "file_extension": ".py",
   "mimetype": "text/x-python",
   "name": "python",
   "nbconvert_exporter": "python",
   "pygments_lexer": "ipython3",
   "version": "3.9.7"
  },
  "orig_nbformat": 4,
  "vscode": {
   "interpreter": {
    "hash": "649746771d3c183382e0589b2e783e42b21b577ff546990e9332042e17a01026"
   }
  }
 },
 "nbformat": 4,
 "nbformat_minor": 2
}
