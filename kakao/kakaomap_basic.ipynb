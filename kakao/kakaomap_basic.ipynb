{
 "cells": [
  {
   "cell_type": "code",
   "execution_count": null,
   "metadata": {},
   "outputs": [],
   "source": [
    "\"\"\"\n",
    "##############\n",
    "# 크롤링 리스트 #\n",
    "########################################################\n",
    "광주 아파트, 광주 학교, 광주 빌라, 광주 교회, 광주 성당, 광주 빌딩, \n",
    "광주 유치원, 광주 초등학교, 광주 중학교, 광주 고등학교, 광주 대학교, \n",
    "광주 음식점, 광주 카페, 광주 시장, 광주 공원    \n",
    "########################################################\n",
    "\"\"\""
   ]
  },
  {
   "cell_type": "code",
   "execution_count": null,
   "metadata": {},
   "outputs": [],
   "source": [
    "from selenium import webdriver\n",
    "from bs4 import BeautifulSoup\n",
    "import pandas as pd\n",
    "import time\n",
    "from tqdm import tqdm_notebook"
   ]
  },
  {
   "cell_type": "code",
   "execution_count": null,
   "metadata": {},
   "outputs": [],
   "source": [
    "driver=webdriver.Chrome(\"/Users/jinwon-kim/Developer/chromedriver\")"
   ]
  },
  {
   "cell_type": "code",
   "execution_count": null,
   "metadata": {},
   "outputs": [],
   "source": [
    "url=\"https://map.kakao.com/\"\n",
    "driver.get(url)\n",
    "time.sleep(5)\n",
    "\n",
    "driver.find_element_by_xpath('//*[@id=\"search.keyword.query\"]').click()\n",
    "# search=driver.find_element_by_css_selector('#search\\.keyword\\.query')\n",
    "search=driver.find_element_by_xpath('//*[@id=\"search.keyword.query\"]')\n",
    "search.send_keys(\"광주광역시 아파트\")\n",
    "driver.find_element_by_xpath('//*[@id=\"search.keyword.submit\"]').click()\n",
    "driver.find_element_by_xpath('//*[@id=\"info.search.place.more\"]').click() # 더보기 최초 1회"
   ]
  },
  {
   "cell_type": "code",
   "execution_count": null,
   "metadata": {},
   "outputs": [],
   "source": [
    "html=driver.page_source\n",
    "soup=BeautifulSoup(html, 'html.parser')\n",
    "\n",
    "loc_list = soup.select(\"div > ul.placelist > li > div.head_item.clickArea\")\n",
    "addrs=soup.select(\"#info\\.search\\.place\\.list > li:nth-child(n)\")\n",
    "# sub_addrs=soup.select(\"#info\\.search\\.place\\.list > li:nth-child(n)\")\n",
    "# div.head_item.clickArea # 아파트명\n",
    "# div.info_item # 주소\n",
    "# div.rating.clickArea # 평점\n",
    "# div.DupListView > ul # 몇 동 101동 등등\n",
    "# #info\\.search\\.place\\.list > li:nth-child(n) 여기에 주소 및 숨은 동 까지 다 들어 있다\n",
    "# <ul class=\"duplist HIDDEN\" data-id=\"duplist\"><li class=\"DupItemView\"> # 이게 있을경우 101동~ 등등 이 있다"
   ]
  },
  {
   "cell_type": "code",
   "execution_count": null,
   "metadata": {},
   "outputs": [],
   "source": [
    "# 함수로 만들기\n",
    "tmp_subadrr = []\n",
    "tmp = []\n",
    "searched_info={'Name':[],'SubAddr':[],'Category':[],'Address':[],'OtherAddr':[]}\n",
    "for i, addr in enumerate(addrs):\n",
    "    order = i + 1\n",
    "    # print(len(addr.select(\"div.DupListView > ul\")))\n",
    "    if len(addr.select(\"div.DupListView > ul\"))>0:\n",
    "        # 이름\n",
    "        print(addr.select(\"li:nth-child({}) > div.utile_item > span.screen_out\".format(order))[0].text.strip())\n",
    "        name = addr.select(\"li:nth-child({}) > div.utile_item > span.screen_out\".format(order))[0].text.strip()\n",
    "        # 동 (있을경우)\n",
    "        # print(addr.select(\"li:nth-child({}) > div.DupListView > ul\".format(order))[0].text.strip())\n",
    "        tmp_subadrr.append(addr.select(\"li:nth-child({}) > div.DupListView > ul\".format(order))[0].text.strip())\n",
    "        # print(tmp_subadrr)\n",
    "        tmp_subadrr = tmp_subadrr[0].split(\"\\n\")\n",
    "        tmp_subadrr = [i for i in tmp_subadrr if i != '']\n",
    "        print(tmp_subadrr)\n",
    "        subAddr = tmp_subadrr\n",
    "        # 타입-category (아파트, 식당)\n",
    "        print(addr.select(\"li:nth-child({}) > div.head_item.clickArea > strong > a.link_name > strong\".format(order))[0].text.strip())\n",
    "        category = addr.select(\"li:nth-child({}) > div.head_item.clickArea > strong > a.link_name > strong\".format(order))[0].text.strip()\n",
    "        # 주소\n",
    "        print(addr.select(\"li:nth-child({}) > div.info_item > div.addr > p:nth-child(1)\".format(order))[0].text.strip())\n",
    "        address = addr.select(\"li:nth-child({}) > div.info_item > div.addr > p:nth-child(1)\".format(order))[0].text.strip()\n",
    "        # 주소(지번)\n",
    "        print(addr.select(\"li:nth-child({}) > div.info_item > div.addr > p.lot_number\".format(order))[0].text.strip())\n",
    "        otherAddr = addr.select(\"li:nth-child({}) > div.info_item > div.addr > p.lot_number\".format(order))[0].text.strip()\n",
    "\n",
    "        searched_info['Name'].append(name)\n",
    "        searched_info['SubAddr'].append(subAddr)\n",
    "        searched_info['Category'].append(category)\n",
    "        searched_info['Address'].append(address)\n",
    "        searched_info['OtherAddr'].append(otherAddr)\n",
    "    tmp_subadrr = []\n",
    "    \n",
    "    \n",
    "# try except 로 없는것들 생길수도 있는것 예외처리할것\n",
    "    # 광고는 안들어감\n",
    "    # 그리고 주소 동 있을때 넣는 함수 필요\n",
    "    \n",
    "    # if len(addr.select(\"li:nth-child({}) > div.DupListView > ul\".format(order)))>0:\n",
    "        # print(addr.select(\"li:nth-child({}) > div.DupListView > ul\".format(order)))\n",
    "        # print(addr.select(\"div > strong > a.link_name\")[0].text.strip())\n",
    "        # tmp.append(addr.select(\"li:nth-child({}) > div.DupListView > ul\".format(order)))\n",
    "        # #info\\.search\\.place\\.list > li:nth-child(10) > div.DupListView > ul\n",
    "        # text = f'{i}'\n",
    "        # print(text)\n",
    "    # else: #이것은 광고였다\n",
    "    #     text = f'{i}_None'\n",
    "    #     tmp.append(None)\n",
    "    #     print(f'{i}_None')\n",
    "\n",
    "# #info\\.search\\.place\\.list > li:nth-child(1) > div.DupListView\n",
    "#info\\.search\\.place\\.list\n",
    "#info\\.search\\.place\\.list > li:nth-child(1) > div.utile_item > span #집이름\n",
    "#info\\.search\\.place\\.list > li:nth-child(1) > div.head_item.clickArea > strong > a.link_name\n",
    "#info\\.search\\.place\\.list > li.AdItem > a > div.info_ad > strong > span:nth-child(1) #(광고)"
   ]
  },
  {
   "cell_type": "code",
   "execution_count": null,
   "metadata": {},
   "outputs": [],
   "source": [
    "pd.DataFrame(searched_info)"
   ]
  },
  {
   "cell_type": "code",
   "execution_count": null,
   "metadata": {},
   "outputs": [],
   "source": [
    "# 함수 예시 \n",
    "def get_store_addr(addrs):\n",
    "    addr_info={'Address':[], 'Hour':[], 'Phone':[]}\n",
    "    for i, addr in enumerate(addrs):\n",
    "        try:\n",
    "            location=addr.select(\"div.addr > p\")[0].text.strip()\n",
    "            hour=addr.select(\"div.openhour > p > a\")[0].text.strip()\n",
    "            phone=addr.select(\"div.contact.clickArea > span.phone\")[0].text.strip()\n",
    "        except:\n",
    "            location=\"\"\n",
    "            hour=\"\"\n",
    "            phone=\"\"\n",
    "        \n",
    "        # 딕셔너리 업데이트\n",
    "        addr_info['Address'].append(location)\n",
    "        addr_info['Hour'].append(hour)\n",
    "        addr_info['Phone'].append(phone)\n",
    "    return addr_info"
   ]
  },
  {
   "cell_type": "code",
   "execution_count": null,
   "metadata": {},
   "outputs": [],
   "source": []
  },
  {
   "cell_type": "code",
   "execution_count": null,
   "metadata": {},
   "outputs": [],
   "source": []
  }
 ],
 "metadata": {
  "kernelspec": {
   "display_name": "Python 3.9.7 ('base')",
   "language": "python",
   "name": "python3"
  },
  "language_info": {
   "name": "python",
   "version": "3.9.7"
  },
  "orig_nbformat": 4,
  "vscode": {
   "interpreter": {
    "hash": "649746771d3c183382e0589b2e783e42b21b577ff546990e9332042e17a01026"
   }
  }
 },
 "nbformat": 4,
 "nbformat_minor": 2
}
