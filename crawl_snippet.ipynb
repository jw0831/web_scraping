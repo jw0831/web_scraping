{
 "cells": [
  {
   "cell_type": "markdown",
   "metadata": {},
   "source": [
    "# 크롤링 코드 저장소\n",
    "\n",
    "## 개념 :\n",
    "- bot : web scraping 프로그램 자체\n",
    "    - web-scraping : 데이터를 수집하는 작업 전체\n",
    "- web-crawler : 여러 페이지를 횡단하는 프로그램\n",
    "\n"
   ]
  },
  {
   "cell_type": "code",
   "execution_count": null,
   "metadata": {},
   "outputs": [],
   "source": []
  }
 ],
 "metadata": {
  "kernelspec": {
   "display_name": "Python 3.9.7 ('base')",
   "language": "python",
   "name": "python3"
  },
  "language_info": {
   "name": "python",
   "version": "3.9.7"
  },
  "orig_nbformat": 4,
  "vscode": {
   "interpreter": {
    "hash": "649746771d3c183382e0589b2e783e42b21b577ff546990e9332042e17a01026"
   }
  }
 },
 "nbformat": 4,
 "nbformat_minor": 2
}
