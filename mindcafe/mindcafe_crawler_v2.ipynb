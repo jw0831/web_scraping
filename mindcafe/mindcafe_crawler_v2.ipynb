{
 "cells": [
  {
   "cell_type": "code",
   "execution_count": 1,
   "metadata": {},
   "outputs": [],
   "source": [
    "from selenium import webdriver\n",
    "from bs4 import BeautifulSoup\n",
    "from selenium.webdriver.common.by import By\n",
    "import pandas as pd\n",
    "import time\n",
    "import random\n",
    "import os\n",
    "from tqdm import tqdm_notebook\n",
    "from tqdm.auto import tqdm"
   ]
  },
  {
   "cell_type": "code",
   "execution_count": 2,
   "metadata": {},
   "outputs": [
    {
     "data": {
      "text/plain": [
       "'c:\\\\Users\\\\82109\\\\Desktop\\\\crawler'"
      ]
     },
     "execution_count": 2,
     "metadata": {},
     "output_type": "execute_result"
    }
   ],
   "source": [
    "os.getcwd()"
   ]
  },
  {
   "cell_type": "code",
   "execution_count": 3,
   "metadata": {},
   "outputs": [],
   "source": [
    "# time.sleep(random.uniform(2,4)) # 2~4초 사이 랜덤한 시간으로 쉬기"
   ]
  },
  {
   "cell_type": "code",
   "execution_count": 153,
   "metadata": {},
   "outputs": [
    {
     "name": "stderr",
     "output_type": "stream",
     "text": [
      "C:\\Users\\82109\\AppData\\Local\\Temp/ipykernel_9940/3199366827.py:1: DeprecationWarning: executable_path has been deprecated, please pass in a Service object\n",
      "  driver=webdriver.Chrome(\"c:/DevSpace/chromedriver\")\n"
     ]
    }
   ],
   "source": [
    "driver=webdriver.Chrome(\"c:/DevSpace/chromedriver\")"
   ]
  },
  {
   "cell_type": "code",
   "execution_count": 14,
   "metadata": {},
   "outputs": [],
   "source": [
    "# X paths #######################################################################################################\n",
    "\n",
    "all_troubles=           '//*[@id=\"__next\"]/div/div[2]/div/div[1]/div[1]/div[1]/a[1]/div'               # 모든 사연\n",
    "normal_trouble=         '//*[@id=\"__next\"]/div/div[2]/div/div[1]/div[1]/div[1]/div[2]/div[2]/a[1]/div' # 일반 고민\n",
    "path_trouble=           '//*[@id=\"__next\"]/div/div[2]/div/div[1]/div[1]/div[1]/div[2]/div[2]/a[2]/div' # 취업/진로\n",
    "trouble_at_work=        '//*[@id=\"__next\"]/div/div[2]/div/div[1]/div[1]/div[1]/div[2]/div[2]/a[3]/div' # 직장\n",
    "relationship_trouble=   '//*[@id=\"__next\"]/div/div[2]/div/div[1]/div[1]/div[1]/div[2]/div[2]/a[4]/div' # 연애\n",
    "sexual_trouble=         '//*[@id=\"__next\"]/div/div[2]/div/div[1]/div[1]/div[1]/div[2]/div[2]/a[5]/div' # 성추행 //*[@id=\"__next\"]/div/div[2]/div/div[1]/div[1]/div[1]/div[2]/div[2]/div[5]\n",
    "marriage_trouble=       '//*[@id=\"__next\"]/div/div[2]/div/div[1]/div[1]/div[1]/div[2]/div[2]/a[6]/div' # 결혼/육아\n",
    "people_trouble=         '//*[@id=\"__next\"]/div/div[2]/div/div[1]/div[1]/div[1]/div[2]/div[2]/a[7]/div' # 대인관계\n",
    "appearance_trouble=     '//*[@id=\"__next\"]/div/div[2]/div/div[1]/div[1]/div[1]/div[2]/div[2]/a[8]/div' # 외모\n",
    "family_trouble=         '//*[@id=\"__next\"]/div/div[2]/div/div[1]/div[1]/div[1]/div[2]/div[2]/a[9]/div' # 가족\n",
    "exam_trouble=           '//*[@id=\"__next\"]/div/div[2]/div/div[1]/div[1]/div[1]/div[2]/div[2]/a[10]/div'# 학업/고시\n",
    "money_trouble=          '//*[@id=\"__next\"]/div/div[2]/div/div[1]/div[1]/div[1]/div[2]/div[2]/a[11]/div'# 금전/사업\n",
    "sexual_life_trouble=    '//*[@id=\"__next\"]/div/div[2]/div/div[1]/div[1]/div[1]/div[2]/div[2]/a[12]/div'# 성생활\n",
    "divorce_trouble=        '//*[@id=\"__next\"]/div/div[2]/div/div[1]/div[1]/div[1]/div[2]/div[2]/a[13]/div'# 이별/이혼\n",
    "addiction=              '//*[@id=\"__next\"]/div/div[2]/div/div[1]/div[1]/div[1]/div[2]/div[2]/a[14]/div'# 중독/집착\n",
    "sick=                   '//*[@id=\"__next\"]/div/div[2]/div/div[1]/div[1]/div[1]/div[2]/div[2]/a[15]/div'# 투병/신체\n",
    "mental=                 '//*[@id=\"__next\"]/div/div[2]/div/div[1]/div[1]/div[1]/div[2]/div[2]/a[16]/div'# 정신건강\n",
    "lgbt=                   '//*[@id=\"__next\"]/div/div[2]/div/div[1]/div[1]/div[1]/div[2]/div[2]/a[17]/div'# LGBT\n",
    "personal_character=     '//*[@id=\"__next\"]/div/div[2]/div/div[1]/div[1]/div[1]/div[2]/div[2]/a[18]/div'# 자아/성격\n",
    "bully=                  '//*[@id=\"__next\"]/div/div[2]/div/div[1]/div[1]/div[1]/div[2]/div[2]/a[19]/div'# 따돌림\n",
    "encoruage =             '//*[@id=\"__next\"]/div/div[2]/div/div[1]/div[1]/div[1]/div[3]/div[2]/a/div'# 응원\n",
    "casual_talk =           '//*[@id=\"__next\"]/div/div[2]/div/div[1]/div[1]/div[1]/div[4]/div[2]/a/div'# 자유\n",
    "\n",
    "list_category = [all_troubles, normal_trouble, path_trouble, trouble_at_work, relationship_trouble, sexual_trouble, marriage_trouble, people_trouble,appearance_trouble, \n",
    "                 family_trouble, exam_trouble, money_trouble, sexual_life_trouble, divorce_trouble, addiction, sick, mental, lgbt, personal_character, bully, encoruage, casual_talk]\n",
    "name_category = ['모든 사연','일반 고민','취업/진로','직장','연애','성추행','결혼/육아','대인관계','외모','가족','학업/고시','금전/사업','성생활','이별/이혼','중독/집착','투병/신체','정신건강','LGBT','자아/성격','따돌림','응원','자유']\n",
    "\n",
    "category_name2xpath = dict()\n",
    "category_id2xpath = dict()\n",
    "for idx, xpath_path in enumerate(list_category):\n",
    "    category_name2xpath[name_category[idx]] = xpath_path\n",
    "    category_id2xpath[idx] = xpath_path\n",
    "    \n",
    "# buttons #######################################################################################################\n",
    "view_more = '//*[@id=\"__next\"]/div/div[2]/div/div[1]/div[1]/div[2]'\n",
    "back_button = '//*[@id=\"__next\"]/div/div[2]/div[1]/div[1]'\n",
    "page_order = 1\n",
    "page_button = f'//*[@id=\"__next\"]/div/div[3]/div[2]/div[{page_order}]/div/a'\n",
    "next_page_right_btn = '//*[@id=\"__next\"]/div/div[3]/div[2]/div[10]/a'\n",
    "prev_page_left_btn = '//*[@id=\"__next\"]/div/div[3]/div[2]/div[1]/a'\n"
   ]
  },
  {
   "cell_type": "code",
   "execution_count": 16,
   "metadata": {},
   "outputs": [],
   "source": [
    "# category_name2xpath"
   ]
  },
  {
   "cell_type": "code",
   "execution_count": 80,
   "metadata": {},
   "outputs": [
    {
     "data": {
      "text/plain": [
       "'c:\\\\Users\\\\82109\\\\Desktop\\\\crawler'"
      ]
     },
     "execution_count": 80,
     "metadata": {},
     "output_type": "execute_result"
    }
   ],
   "source": [
    "os.getcwd()"
   ]
  },
  {
   "cell_type": "code",
   "execution_count": 154,
   "metadata": {},
   "outputs": [
    {
     "name": "stdout",
     "output_type": "stream",
     "text": [
      "no more right page\n",
      "no more right page\n",
      "no more right page\n",
      "no more right page\n",
      "no more right page\n",
      "no more right page\n",
      "no more right page\n",
      "no more right page\n",
      "no more right page\n",
      "no more right page\n",
      "no more right page\n",
      "no more right page\n",
      "no more right page\n",
      "no more right page\n",
      "no more right page\n"
     ]
    }
   ],
   "source": [
    "# 모든 각 카테고리의 전문답변 페이지 링크 추출\n",
    "from tqdm.auto import tqdm\n",
    "url=\"https://www.mindcafe.co.kr/pc/community\"\n",
    "person_xpath = '//*[@id=\"__next\"]/div/div[2]/div[2]/div[2]'\n",
    "therapist_xpath = '//*[@id=\"story-comments\"]/div/div[1]'\n",
    "\n",
    "name_category = ['취업/진로','직장','연애','성추행','결혼/육아','대인관계','외모','가족','학업/고시','금전/사업',\n",
    "                 '성생활','이별/이혼','중독/집착','투병/신체','정신건강','LGBT','자아/성격','따돌림','응원','자유']\n",
    "todo_category = name_category[1:] # 카테고리\n",
    "# name_category 순회 성공\n",
    "for cat in todo_category:\n",
    "    driver.get(url)\n",
    "    time.sleep(0.5)\n",
    "    driver.find_element(by=By.XPATH, value=view_more).click()\n",
    "    # time.sleep(0.5)\n",
    "    #### 카테고리 클릭 ####\n",
    "    driver.find_element(by=By.XPATH, value=category_name2xpath[cat]).click()\n",
    "    time.sleep(3)    \n",
    "    # 페이지 1에 들어옴\n",
    "    story_pages = []\n",
    "    page_num = 1\n",
    "    while True:\n",
    "        ################## \n",
    "        stories_page = driver.find_elements(By.CLASS_NAME, 'story') # 20개의 사연 정보\n",
    "        try:\n",
    "            for story_page in stories_page: # 사이트 url 추출\n",
    "                st_page = story_page.find_element(by=By.TAG_NAME, value='a').get_attribute('href')\n",
    "                story_pages.append(st_page)   \n",
    "        except: # 실패할경우 로딩 시간 더 주기.. 나중에 중복제거하기.\n",
    "            time.sleep(3)\n",
    "            stories_page = driver.find_elements(By.CLASS_NAME, 'story') # 20개의 사연 정보\n",
    "            for story_page in stories_page: # 사이트 url 추출\n",
    "                st_page = story_page.find_element(by=By.TAG_NAME, value='a').get_attribute('href')\n",
    "                story_pages.append(st_page)   \n",
    "        ##################\n",
    "        \n",
    "        page_num += 1 # page 증가 (범위 1~10)\n",
    "        if page_num == 11: # page_num 은 10 까지 이므로 다음으로 넘어가게됨\n",
    "            try:\n",
    "                driver.find_element(by=By.XPATH, value=next_page_right_btn).click()\n",
    "                page_num = 1\n",
    "            except:\n",
    "                # 여기서 해당카테고리에 더이상 넘어갈 수 있는 페이지가 없다 그러면 다음 카테고리로 넘어가기\n",
    "                print('no more right page') \n",
    "                break\n",
    "    \n",
    "        if page_num != 1:\n",
    "            try:\n",
    "                page_button = f'//*[@id=\"__next\"]/div/div[3]/div[2]/div[{page_num}]/div/a'\n",
    "                driver.find_element(by=By.XPATH, value = page_button).click()\n",
    "                time.sleep(3)    \n",
    "            except:\n",
    "                # 다음페이지 없을경우 끝\n",
    "                # 다음 카테고리로\n",
    "                break\n",
    "            \n",
    "    cat = cat.replace('/', '_') # 취업/진로 -> 취업_진로  이렇게 바꿔야 저장할때 에러 안남\n",
    "    df_urls=pd.Series(story_pages, name=f'{cat}_story_urls').drop_duplicates(keep='first') # 중복 제거\n",
    "    df_urls.to_excel(f'./urls_crawled_by_category/{cat}_story_urls.xlsx', index=False)  "
   ]
  },
  {
   "cell_type": "code",
   "execution_count": 127,
   "metadata": {},
   "outputs": [
    {
     "data": {
      "text/plain": [
       "6340"
      ]
     },
     "execution_count": 127,
     "metadata": {},
     "output_type": "execute_result"
    }
   ],
   "source": [
    "df_urls=pd.Series(story_pages, name=f'{cat}_story_urls').drop_duplicates(keep='first') # 중복 제거\n",
    "len(df_urls)"
   ]
  },
  {
   "cell_type": "code",
   "execution_count": 130,
   "metadata": {},
   "outputs": [],
   "source": [
    "from pathlib import Path"
   ]
  },
  {
   "cell_type": "code",
   "execution_count": 131,
   "metadata": {},
   "outputs": [
    {
     "data": {
      "text/plain": [
       "WindowsPath('C:/Users/82109')"
      ]
     },
     "execution_count": 131,
     "metadata": {},
     "output_type": "execute_result"
    }
   ],
   "source": [
    "Path.home()"
   ]
  },
  {
   "cell_type": "code",
   "execution_count": 143,
   "metadata": {},
   "outputs": [
    {
     "name": "stdout",
     "output_type": "stream",
     "text": [
      "c:\\Users\\82109\\Desktop\\crawler\n"
     ]
    }
   ],
   "source": [
    "print(Path.cwd())"
   ]
  },
  {
   "cell_type": "code",
   "execution_count": 144,
   "metadata": {},
   "outputs": [
    {
     "data": {
      "text/plain": [
       "['kakaomap_basic.ipynb',\n",
       " 'mindcafe',\n",
       " 'mindcafe_crawler.ipynb',\n",
       " 'mindcafe_crawler_v2.ipynb',\n",
       " 'test',\n",
       " 'therapist_ans_sites',\n",
       " 'urls_crawled_by_category']"
      ]
     },
     "execution_count": 144,
     "metadata": {},
     "output_type": "execute_result"
    }
   ],
   "source": [
    "os.listdir()"
   ]
  },
  {
   "cell_type": "code",
   "execution_count": 147,
   "metadata": {},
   "outputs": [],
   "source": [
    "df_urls.to_excel('story_urls.xlsx', index=False)  "
   ]
  },
  {
   "cell_type": "code",
   "execution_count": 150,
   "metadata": {},
   "outputs": [
    {
     "data": {
      "text/plain": [
       "'안녕'"
      ]
     },
     "execution_count": 150,
     "metadata": {},
     "output_type": "execute_result"
    }
   ],
   "source": [
    "'안녕'.replace('/', '_')"
   ]
  },
  {
   "cell_type": "code",
   "execution_count": 149,
   "metadata": {},
   "outputs": [],
   "source": [
    "cat = cat.replace('/', '_')\n",
    "df_urls.to_excel(f'./urls_crawled_by_category/{cat}_story_urls.xlsx', index=False)  "
   ]
  },
  {
   "cell_type": "code",
   "execution_count": null,
   "metadata": {},
   "outputs": [],
   "source": []
  },
  {
   "cell_type": "code",
   "execution_count": 100,
   "metadata": {},
   "outputs": [
    {
     "data": {
      "text/plain": [
       "[<selenium.webdriver.remote.webelement.WebElement (session=\"b2cdf85f79d84591d6e561d1917a47a7\", element=\"ac7d7359-5292-4965-a24e-ab3651dd2f98\")>]"
      ]
     },
     "execution_count": 100,
     "metadata": {},
     "output_type": "execute_result"
    }
   ],
   "source": [
    "driver.find_elements(By.XPATH, '//*[@id=\"__next\"]/div/div[3]/div[1]/div[2]/div/div[1]')\n",
    "driver.find_elements(By.XPATH, '//*[@id=\"__next\"]/div/div[3]/div[1]')\n",
    "\n",
    "# //*[@id=\"__next\"]/div/div[3]/div[1]/div[2]/div/div[1]\n",
    "# //*[@id=\"__next\"]/div/div[3]/div[1]/div[2]/div/div[2]\n",
    "# //*[@id=\"__next\"]/div/div[3]/div[1]/div[2]/div/div[20]\n",
    "\n",
    "#__next > div > div.community__CommunityWrapper-sc-49nndi-1.dWYDoW > div.stories-wrapper > div.CommunityStories__StoriesWrapper-pqg6h7-0.jrcihD > div"
   ]
  },
  {
   "cell_type": "code",
   "execution_count": 92,
   "metadata": {},
   "outputs": [
    {
     "data": {
      "text/plain": [
       "'https://www.mindcafe.co.kr/story?id=1759849'"
      ]
     },
     "execution_count": 92,
     "metadata": {},
     "output_type": "execute_result"
    }
   ],
   "source": [
    "stories_page[0].find_element(by=By.TAG_NAME, value='a').get_attribute('href')"
   ]
  },
  {
   "cell_type": "code",
   "execution_count": 79,
   "metadata": {},
   "outputs": [],
   "source": [
    "page_order = 1\n",
    "#page 번호는 증가하나, 실제 xpath에서는 1~10까지 반복\n",
    "# //*[@id=\"__next\"]/div/div[3]/div[2]/div[3]/div\n",
    "page_button = f'//*[@id=\"__next\"]/div/div[3]/div[2]/div[{page_order}]/div/a'\n",
    "next_page_right_btn = '//*[@id=\"__next\"]/div/div[3]/div[2]/div[10]/a'\n",
    "prev_page_left_btn = '//*[@id=\"__next\"]/div/div[3]/div[2]/div[1]/a'\n",
    "# try:\n",
    "#     driver.find_element(by=By.XPATH, value=prev_page_left_btn).click()\n",
    "# except:\n",
    "#     print('no more left page')\n",
    "    \n",
    "# try:\n",
    "#     driver.find_element(by=By.XPATH, value=next_page_right_btn).click()\n",
    "# except:\n",
    "#     print('no more right page')\n",
    "\n",
    "try:\n",
    "    driver.find_element(by=By.XPATH, value = page_button).click()\n",
    "except:\n",
    "    print('error: page_button')"
   ]
  },
  {
   "cell_type": "code",
   "execution_count": 50,
   "metadata": {},
   "outputs": [
    {
     "name": "stdout",
     "output_type": "stream",
     "text": [
      "<class 'str'>\n",
      "<class 'str'>\n"
     ]
    }
   ],
   "source": [
    "sp = driver.find_elements(By.CLASS_NAME, 'story') # 20개의 사연 정보\n",
    "sp\n",
    "# sp[19].find_element(by=By.TAG_NAME, value='a').get_attribute('href')\n",
    "for i in sp[:2]:\n",
    "    # print(i.find_element(by=By.TAG_NAME, value='a').get_attribute('href'))\n",
    "    print(type(i.find_element(by=By.TAG_NAME, value='a').get_attribute('href')))"
   ]
  },
  {
   "cell_type": "code",
   "execution_count": 25,
   "metadata": {},
   "outputs": [
    {
     "data": {
      "text/plain": [
       "'https://www.mindcafe.co.kr/story?id=1771124'"
      ]
     },
     "execution_count": 25,
     "metadata": {},
     "output_type": "execute_result"
    }
   ],
   "source": [
    "driver.find_elements(By.CLASS_NAME, 'story')[8].find_element(by=By.TAG_NAME, value='a').get_attribute('href')"
   ]
  },
  {
   "cell_type": "code",
   "execution_count": null,
   "metadata": {},
   "outputs": [],
   "source": [
    "pages = []\n",
    "storylist = driver.find_elements(By.CLASS_NAME, 'story') # 전체 스토리 정보\n",
    "    # driver.find_element(by=By.XPATH, value=f'//*[@id=\"__next\"]/div/div[3]/div/div[2]/div/div[{tam_idx}]').click()\n",
    "    page = storylist[tam_idx].find_element(by=By.TAG_NAME, value='a').get_attribute('href')\n",
    "    pages.append(page)"
   ]
  },
  {
   "cell_type": "code",
   "execution_count": null,
   "metadata": {},
   "outputs": [],
   "source": []
  },
  {
   "cell_type": "code",
   "execution_count": null,
   "metadata": {},
   "outputs": [],
   "source": [
    "# original\n",
    "# 모든 각 카테고리의 전문답변 페이지 링크 추출\n",
    "from tqdm.auto import tqdm\n",
    "url=\"https://www.mindcafe.co.kr/pc/community\"\n",
    "person_xpath = '//*[@id=\"__next\"]/div/div[2]/div[2]/div[2]'\n",
    "therapist_xpath = '//*[@id=\"story-comments\"]/div/div[1]'\n",
    "\n",
    "name_category = ['취업/진로','직장','연애','성추행','결혼/육아','대인관계','외모','가족','학업/고시','금전/사업','성생활','이별/이혼','중독/집착','투병/신체','정신건강','LGBT','자아/성격','따돌림','응원','자유']\n",
    "todo_category = name_category[5:]\n",
    "for cat in todo_category:\n",
    "    \n",
    "    driver.get(url)\n",
    "    time.sleep(1)\n",
    "    driver.find_element(by=By.XPATH, value=view_more).click()\n",
    "    driver.find_element(by=By.XPATH, value=category_name2xpath[cat]).click()\n",
    "    \n",
    "    story_dict_by_category = dict()\n",
    "    \n",
    "    print(f'|{cat}| 스크롤 시작~!')\n",
    "    l = len(driver.find_elements(By.CLASS_NAME, 'story')) # 스토리 수 찾아서 range로 써먹기\n",
    "    limit = 1 + 1000\n",
    "    all_limit = 1+5000\n",
    "    prev_l = 0\n",
    "    prof_ans_idx = []\n",
    "    \n",
    "    scroll_location = 0\n",
    "    while l < all_limit:\n",
    "        #스크롤 맨밑으로 내리기\n",
    "        SCROLL_PAUSE_TIME = 2\n",
    "        driver.execute_script(\"window.scrollTo(0, document.body.scrollHeight);\")\n",
    "        time.sleep(SCROLL_PAUSE_TIME) #1.5초 지연\n",
    "        scroll_height = driver.execute_script(\"return document.body.scrollHeight\")\n",
    "        # 더이상 로드할 데이터가 없는경우 스크롤이 더이상 안내려가는 경우임 스크롤 빠져나오기 위한 코드\n",
    "        if scroll_location == scroll_height:\n",
    "            all_limit = 1\n",
    "        else:\n",
    "            scroll_location = driver.execute_script(\"return document.body.scrollHeight\")\n",
    "        \n",
    "        l = len(driver.find_elements(By.CLASS_NAME, 'story')) # 스토리 수 찾아서 range로 써먹기\n",
    "        # print(l)\n",
    "        if l > limit:\n",
    "            story_lists = driver.find_elements(By.CLASS_NAME, 'story')\n",
    "            for num in tqdm(range(prev_l, l)):\n",
    "                # 여기도 story에서 한번에 인덱스 정보 가져오기\n",
    "                # res = driver.find_element(by=By.XPATH, value=f'//*[@id=\"__next\"]/div/div[3]/div/div[2]/div/div[{num}]/div/div[1]/div[1]').text\n",
    "                try:\n",
    "                    res = story_lists[num].find_element(by=By.CLASS_NAME, value='story__header__info').text\n",
    "                    if '전문답변' in res:\n",
    "                        prof_ans_idx.append(num)\n",
    "                except:\n",
    "                    print(f'error idx : {num} len_l : {l}')\n",
    "                    print(f'prof_ans_idx: {prof_ans_idx}')\n",
    "            # print('전문답변 len =',len(prof_ans_idx), f'limit len = {limit}')\n",
    "            print('전문답변 len =',len(prof_ans_idx), f'limit len = {limit}')\n",
    "            limit +=1000\n",
    "            prev_l = l\n",
    "            \n",
    "        if len(prof_ans_idx) > 100:\n",
    "            all_limit = 0\n",
    "            print(f'스크롤 종료~! 추출 시작~! 추출 길이 : {len(prof_ans_idx)}')\n",
    "            \n",
    "    if all_limit != 0 and all_limit !=1 :\n",
    "        print(f'스크롤 종료 but {all_limit} 길이 동안 100 개 못채움, 추출할 길이 : {len(prof_ans_idx)}')\n",
    "        \n",
    "    if all_limit == 1:\n",
    "        story_lists = driver.find_elements(By.CLASS_NAME, 'story')\n",
    "        l = len(story_lists)\n",
    "        print(f'스크롤 미달 | 스토리 수:{len(story_lists)}')\n",
    "        for num in tqdm(range(prev_l, l)):\n",
    "            # 여기도 story에서 한번에 인덱스 정보 가져오기\n",
    "            # res = driver.find_element(by=By.XPATH, value=f'//*[@id=\"__next\"]/div/div[3]/div/div[2]/div/div[{num}]/div/div[1]/div[1]').text\n",
    "            try:\n",
    "                res = story_lists[num].find_element(by=By.CLASS_NAME, value='story__header__info').text\n",
    "                if '전문답변' in res:\n",
    "                    prof_ans_idx.append(num)\n",
    "            except:\n",
    "                print(f'error idx : {num} len_l : {l}')\n",
    "                print(f'prof_ans_idx: {prof_ans_idx}')\n",
    "    \n",
    "    pages = []\n",
    "    storylist = driver.find_elements(By.CLASS_NAME, 'story') # 전체 스토리 정보\n",
    "    for tam_idx in prof_ans_idx:\n",
    "        # driver.find_element(by=By.XPATH, value=f'//*[@id=\"__next\"]/div/div[3]/div/div[2]/div/div[{tam_idx}]').click()\n",
    "        page = storylist[tam_idx].find_element(by=By.TAG_NAME, value='a').get_attribute('href')\n",
    "        pages.append(page)\n",
    "        \n",
    "    story_dict_by_category[cat] = pages\n",
    "    if '/' in cat:\n",
    "        cat = cat.replace('/', '')\n",
    "        pd.DataFrame.from_dict(story_dict_by_category).to_excel(cat + '_전문상담sites.xlsx', index=False)\n",
    "    else:\n",
    "        pd.DataFrame.from_dict(story_dict_by_category).to_excel(cat + '_전문상담sites.xlsx', index=False)"
   ]
  },
  {
   "cell_type": "markdown",
   "metadata": {},
   "source": [
    "Beautifulsoup으로 파싱"
   ]
  },
  {
   "cell_type": "code",
   "execution_count": 114,
   "metadata": {},
   "outputs": [],
   "source": [
    "import requests\n",
    "from bs4 import BeautifulSoup"
   ]
  },
  {
   "cell_type": "code",
   "execution_count": 115,
   "metadata": {},
   "outputs": [],
   "source": [
    "PATH = './therapist_ans_sites/'\n",
    "sites_dict = {}\n",
    "for cat in name_category:\n",
    "    tmp_cat = cat.replace('/','') + '_전문상담sites.xlsx'\n",
    "    sites_dict[cat] = pd.read_excel(PATH + tmp_cat)"
   ]
  },
  {
   "cell_type": "code",
   "execution_count": 25,
   "metadata": {},
   "outputs": [
    {
     "data": {
      "text/html": [
       "<div>\n",
       "<style scoped>\n",
       "    .dataframe tbody tr th:only-of-type {\n",
       "        vertical-align: middle;\n",
       "    }\n",
       "\n",
       "    .dataframe tbody tr th {\n",
       "        vertical-align: top;\n",
       "    }\n",
       "\n",
       "    .dataframe thead th {\n",
       "        text-align: right;\n",
       "    }\n",
       "</style>\n",
       "<table border=\"1\" class=\"dataframe\">\n",
       "  <thead>\n",
       "    <tr style=\"text-align: right;\">\n",
       "      <th></th>\n",
       "      <th>취업/진로</th>\n",
       "    </tr>\n",
       "  </thead>\n",
       "  <tbody>\n",
       "    <tr>\n",
       "      <th>0</th>\n",
       "      <td>https://www.mindcafe.co.kr/story?id=1739723</td>\n",
       "    </tr>\n",
       "    <tr>\n",
       "      <th>1</th>\n",
       "      <td>https://www.mindcafe.co.kr/story?id=1739260</td>\n",
       "    </tr>\n",
       "    <tr>\n",
       "      <th>2</th>\n",
       "      <td>https://www.mindcafe.co.kr/story?id=1738988</td>\n",
       "    </tr>\n",
       "    <tr>\n",
       "      <th>3</th>\n",
       "      <td>https://www.mindcafe.co.kr/story?id=1736517</td>\n",
       "    </tr>\n",
       "    <tr>\n",
       "      <th>4</th>\n",
       "      <td>https://www.mindcafe.co.kr/story?id=1736043</td>\n",
       "    </tr>\n",
       "  </tbody>\n",
       "</table>\n",
       "</div>"
      ],
      "text/plain": [
       "                                         취업/진로\n",
       "0  https://www.mindcafe.co.kr/story?id=1739723\n",
       "1  https://www.mindcafe.co.kr/story?id=1739260\n",
       "2  https://www.mindcafe.co.kr/story?id=1738988\n",
       "3  https://www.mindcafe.co.kr/story?id=1736517\n",
       "4  https://www.mindcafe.co.kr/story?id=1736043"
      ]
     },
     "execution_count": 25,
     "metadata": {},
     "output_type": "execute_result"
    }
   ],
   "source": [
    "sites_dict['취업/진로'].head()"
   ]
  },
  {
   "cell_type": "code",
   "execution_count": 38,
   "metadata": {},
   "outputs": [
    {
     "data": {
      "text/plain": [
       "'https://www.mindcafe.co.kr/story?id=1739723'"
      ]
     },
     "execution_count": 38,
     "metadata": {},
     "output_type": "execute_result"
    }
   ],
   "source": [
    "sites_dict['취업/진로']['취업/진로'][0]"
   ]
  },
  {
   "cell_type": "code",
   "execution_count": 108,
   "metadata": {},
   "outputs": [
    {
     "name": "stdout",
     "output_type": "stream",
     "text": [
      "https://www.mindcafe.co.kr/story?id=1608033\n"
     ]
    }
   ],
   "source": [
    "url = 'https://www.mindcafe.co.kr/story?id=1608033'\n",
    "print(url)\n",
    "response = requests.get(url)\n",
    "\n",
    "if response.status_code == 200:\n",
    "    html = response.text\n",
    "    soup = BeautifulSoup(html, 'html.parser')\n",
    "    # print(soup)\n",
    "\n",
    "else : \n",
    "    print(response.status_code)"
   ]
  },
  {
   "cell_type": "code",
   "execution_count": 109,
   "metadata": {},
   "outputs": [
    {
     "name": "stdout",
     "output_type": "stream",
     "text": [
      "애인의 전애인이 너무 신경쓰여요 \n",
      "\n",
      "현애인과 연애한지 얼마 안됐어요. 아직 싸운적도 한번 없고 그냥 너무 좋고 날 사랑해주는것도 느껴지고 엄청 행복한데... 자꾸 안좋은 생각이나요...\n",
      "사귀기 전에 TMI토크하다가 전애인 이야기를 좀 많이 들었어요. 근데 진짜 많이 좋아했던거 같고... 상당히 오래 만나기도 했고... (10년 가까히돼요..) 엄청 안좋게 헤어진것같지도 않고요... 그때 들은게 욕보다는 좋았었다는 얘기밖에 없었어서...... 헤어진지 오래 안돼서 절 만난거고.\n",
      "그 얘기 들을 당시엔 좀... 기분이 별로긴 했지만 그렇겐 신경 안썼는데...\n",
      "사귀게 된 후로 자꾸 생각나요... 어떡하죠... 제가 애인을 진짜 많이 좋아하고 계속 더 좋아지고 있어서 이게 집착같은건가 싶기도 하고... 원래 성격이 자존감도 낮고 부정적인편이라 걱정도 많고 그런데 그 연장선인가 싶기도 하고...\n",
      "자꾸 그사람한테도 나한테처럼 했겠지? 내가 그사람보다 못해서 돌아가면 어떡하지? 그만큼 오래 함께했는데 다 잊을순 없겠지, 나랑 있을때 그사람 생각이 날까, 혹시 내가 그사람이랑 비슷한점이 있어서 만나는건 아닐까... 그사람보다 날 더 좋아했으면 좋겠는데 욕심일까... 언젠가 날 버리면 어떡하지... 하는 생각이 들어요...\n",
      "진짜 너무 행복한데... 한번씩 이런 생각이 들면 너무 우울해지고... 미치겠네요... 생각을 안하려고 해도 잘 안돼요... 어떻게 해야하죠\n",
      "\n"
     ]
    }
   ],
   "source": [
    "per_title = soup.select('#__next > div.Layout__LayoutWrapper-w6dyul-0.ddCubf > div.story__StoryWrapper-sc-6x53gv-1.icGeLJ.page > div.story.card > div.main > div.main__title')[0].get_text()\n",
    "print(per_title, '\\n')\n",
    "per_content = soup.select('#__next > div.Layout__LayoutWrapper-w6dyul-0.ddCubf > div.story__StoryWrapper-sc-6x53gv-1.icGeLJ.page > div.story.card > div.main > div.main__contents')[0].get_text()\n",
    "print(per_content)"
   ]
  },
  {
   "cell_type": "code",
   "execution_count": 110,
   "metadata": {},
   "outputs": [
    {
     "name": "stdout",
     "output_type": "stream",
     "text": [
      "강지은 님의 전문답변 \n",
      "\n"
     ]
    },
    {
     "ename": "IndexError",
     "evalue": "list index out of range",
     "output_type": "error",
     "traceback": [
      "\u001b[1;31m---------------------------------------------------------------------------\u001b[0m",
      "\u001b[1;31mIndexError\u001b[0m                                Traceback (most recent call last)",
      "\u001b[1;32m~\\AppData\\Local\\Temp/ipykernel_20252/581398355.py\u001b[0m in \u001b[0;36m<module>\u001b[1;34m\u001b[0m\n\u001b[0;32m      2\u001b[0m \u001b[0mcounselor_nickname\u001b[0m \u001b[1;33m=\u001b[0m \u001b[0msoup\u001b[0m\u001b[1;33m.\u001b[0m\u001b[0mselect\u001b[0m\u001b[1;33m(\u001b[0m\u001b[1;34m'#story-comments > div > div.Comment__CommentWrapper-sc-1u7skh9-2.eYUUGp.counselor > div.header > div.profile > div.nickname.clickable'\u001b[0m\u001b[1;33m)\u001b[0m\u001b[1;33m[\u001b[0m\u001b[1;36m0\u001b[0m\u001b[1;33m]\u001b[0m\u001b[1;33m.\u001b[0m\u001b[0mget_text\u001b[0m\u001b[1;33m(\u001b[0m\u001b[1;33m)\u001b[0m\u001b[1;33m\u001b[0m\u001b[1;33m\u001b[0m\u001b[0m\n\u001b[0;32m      3\u001b[0m \u001b[0mprint\u001b[0m\u001b[1;33m(\u001b[0m\u001b[0mcounselor_nickname\u001b[0m\u001b[1;33m,\u001b[0m\u001b[1;34m'\\n'\u001b[0m\u001b[1;33m)\u001b[0m\u001b[1;33m\u001b[0m\u001b[1;33m\u001b[0m\u001b[0m\n\u001b[1;32m----> 4\u001b[1;33m \u001b[0mtherpy_title\u001b[0m \u001b[1;33m=\u001b[0m \u001b[0msoup\u001b[0m\u001b[1;33m.\u001b[0m\u001b[0mselect\u001b[0m\u001b[1;33m(\u001b[0m\u001b[1;34m'#story-comments > div > div.Comment__CommentWrapper-sc-1u7skh9-2.eYUUGp.counselor > div.contents > div > div.counselling__detail.counselling__detail--title'\u001b[0m\u001b[1;33m)\u001b[0m\u001b[1;33m[\u001b[0m\u001b[1;36m0\u001b[0m\u001b[1;33m]\u001b[0m\u001b[1;33m.\u001b[0m\u001b[0mget_text\u001b[0m\u001b[1;33m(\u001b[0m\u001b[1;33m)\u001b[0m\u001b[1;33m\u001b[0m\u001b[1;33m\u001b[0m\u001b[0m\n\u001b[0m\u001b[0;32m      5\u001b[0m \u001b[0mprint\u001b[0m\u001b[1;33m(\u001b[0m\u001b[0mtherpy_title\u001b[0m\u001b[1;33m)\u001b[0m\u001b[1;33m\u001b[0m\u001b[1;33m\u001b[0m\u001b[0m\n\u001b[0;32m      6\u001b[0m \u001b[0mhash_tag\u001b[0m \u001b[1;33m=\u001b[0m \u001b[0msoup\u001b[0m\u001b[1;33m.\u001b[0m\u001b[0mselect\u001b[0m\u001b[1;33m(\u001b[0m\u001b[1;34m'#story-comments > div > div.Comment__CommentWrapper-sc-1u7skh9-2.eYUUGp.counselor > div.contents > div > div:nth-child(2)'\u001b[0m\u001b[1;33m)\u001b[0m\u001b[1;33m[\u001b[0m\u001b[1;36m0\u001b[0m\u001b[1;33m]\u001b[0m\u001b[1;33m.\u001b[0m\u001b[0mget_text\u001b[0m\u001b[1;33m(\u001b[0m\u001b[1;33m)\u001b[0m\u001b[1;33m\u001b[0m\u001b[1;33m\u001b[0m\u001b[0m\n",
      "\u001b[1;31mIndexError\u001b[0m: list index out of range"
     ]
    }
   ],
   "source": [
    "# therapist = soup.select('#story-comments > div > div.Comment__CommentWrapper-sc-1u7skh9-2.eYUUGp.counselor')\n",
    "counselor_nickname = soup.select('#story-comments > div > div.Comment__CommentWrapper-sc-1u7skh9-2.eYUUGp.counselor > div.header > div.profile > div.nickname.clickable')[0].get_text()\n",
    "print(counselor_nickname,'\\n')\n",
    "therpy_title = soup.select('#story-comments > div > div.Comment__CommentWrapper-sc-1u7skh9-2.eYUUGp.counselor > div.contents > div > div.counselling__detail.counselling__detail--title')[0].get_text()\n",
    "print(therpy_title)\n",
    "# hash_tag = soup.select('#story-comments > div > div.Comment__CommentWrapper-sc-1u7skh9-2.eYUUGp.counselor > div.contents > div > div:nth-child(2)')[0].get_text()\n",
    "# print(hash_tag, '\\n')\n",
    "# sub_titles = soup.select('#story-comments > div > div.Comment__CommentWrapper-sc-1u7skh9-2.eYUUGp.counselor > div.contents > div > div.counselling__title')\n",
    "# sub_contents = soup.select('#story-comments > div > div.Comment__CommentWrapper-sc-1u7skh9-2.eYUUGp.counselor > div.contents > div.counselling > div.Comment__CommentDiv-sc-1u7skh9-0.HZisR.counselling__detail.counselling__detail-multi-line')\n",
    "# summary_title = sub_titles[0].get_text()\n",
    "# print(summary_title)\n",
    "# summary_content = sub_contents[0].get_text()\n",
    "# print(summary_content)\n",
    "# analysis_title = sub_titles[1].get_text()\n",
    "# print(analysis_title)\n",
    "# analysis_content = sub_contents[1].get_text()\n",
    "# print(analysis_content)\n",
    "# solution_title = sub_titles[2].get_text()\n",
    "# print(solution_title)\n",
    "# solution_content = sub_contents[2].get_text()\n",
    "# print(solution_content)"
   ]
  },
  {
   "cell_type": "code",
   "execution_count": 93,
   "metadata": {},
   "outputs": [
    {
     "name": "stdout",
     "output_type": "stream",
     "text": [
      "https://www.mindcafe.co.kr/story?id=1738988\n",
      "제가 너무 못난걸까요? \n",
      "\n",
      "현재 대학교를 재학 중인 학생입니다.\n",
      "종강을 해서 지금 슬슬 성적이 나오는데\n",
      "저보다 높은 성적의 친구들을 볼때 마다 질투가 나기도 하고...\n",
      "왜 나는 이러지? 왜 못하는거지?라는 생각 때문에 너무 우울해지기도 하고... 더 나아가서 미래에 대한 걱정이 너무 되기도 해요\n",
      "친구들을 축하해주지는 못할 망정 질투하는 제가 너무 속좁아보이고 너무 싫기도 해요...\n",
      "제가 너무 못난걸까요? 열등감을 어떻게 하면 극복할 수 있을까요?\n",
      " \n",
      " \n",
      "윤수진 코치 님의 전문답변 \n",
      "\n",
      "나의 현재와 앞으로의 목표를 명확히 하기\n",
      " #자존감올리기#열등감을활용하기#나의속도와#목표를#명확히하기 \n",
      "\n",
      "[공개사연 고민요약]\n",
      "성적 결과를 앞두고 나의 성적과 친구들과의 결과를 나도 모르게 비교하게 되고 그 과정에서 올라오는 나의 열등감과 마주하고 계시네요\n",
      "\n",
      "더 나아가 마카님의 미래에 대한 걱정, 불안감이 올라오시네요.\n",
      "\n",
      "미래가 아닌 현재 Here and Now에 집중할 수 있는 시간이 되기를 바랍니다.\n",
      "[고민과 관련된 원인 분석]\n",
      "마카님이 남겨주신\n",
      " <저보다 높은 성적의 친구들을 볼때 마다 질투가 나기도 하고...  친구들을 축하해주지는 못할 망정 질투하는 제가 너무 속좁아보이고 너무 싫기도 해요...\n",
      "제가 너무 못난걸까요? 열등감을 어떻게 하면 극복할 수 있을까요? >\n",
      "부분은 사람이라면 누구나 가지고 있는 인정 받고 싶은 욕구, 성장욕구 등이 마카니에게도 있는 것으로 보여집니다.\n",
      "마카님이 열등감이라 느끼는 것은 나쁜 것 만이 아닌 나를 그래서 어떻게 성장 시킬 매개로 활용할 것이냐에 집중해 주시면 좋을 것 같아요.\n",
      "[해결방안과 대처에 대한 방향 제시]\n",
      "그렇다면 열등감과 우월감을 어떻게 가져갈 것인가에 대해 조금 남겨드리면\n",
      "마카님의 앞으로의 대학생활에서의 단기 목표 그리고 그 넘어를 생각하는 장기 목표를 먼저 생각해 주세요.\n",
      "그러한 목표가 구체화가 되면 그 목표에 나를 지지해줄 외부 지지자원은 누구인지, 그리고 나를 둘러싼 환경 분위기 등등이 나에게 미치는 영향(장점과 단점)를 구체적으로 적어보세요\n",
      "아마도 같이 공부하는 친구들이 장점과 단점에 영향을 미치고 있을 겁니다\n",
      "그 장점과 단점에 마카님은 어느 것에 집중해서 활용할 것인지 생각해보세요.\n",
      "자존감 회복 우월감을 느끼기 위해선 지금 마카님이 목표를 잡은 것을 향해 나아가는 그 과정에 적극적인 지지를 해주세요\n",
      "과정안에서 일어나는 작은 성공경험에 함께 해주세요.\n",
      "열등감에 머물고 말 것인지 그 열등감을 넘어설 것인지 생각해보시구요.\n"
     ]
    }
   ],
   "source": [
    "name_category[0]\n",
    "url = sites_dict['취업/진로']['취업/진로'][2]\n",
    "print(url)\n",
    "response = requests.get(url)\n",
    "\n",
    "if response.status_code == 200:\n",
    "    html = response.text\n",
    "    soup = BeautifulSoup(html, 'html.parser')\n",
    "    # print(soup)\n",
    "    per_title = soup.select('#__next > div.Layout__LayoutWrapper-w6dyul-0.ddCubf > div.story__StoryWrapper-sc-6x53gv-1.icGeLJ.page > div.story.card > div.main > div.main__title')[0].get_text()\n",
    "    print(per_title, '\\n')\n",
    "    per_content = soup.select('#__next > div.Layout__LayoutWrapper-w6dyul-0.ddCubf > div.story__StoryWrapper-sc-6x53gv-1.icGeLJ.page > div.story.card > div.main > div.main__contents')[0].get_text()\n",
    "    print(per_content)\n",
    "    counselor_nickname = soup.select('#story-comments > div > div.Comment__CommentWrapper-sc-1u7skh9-2.eYUUGp.counselor > div.header > div.profile > div.nickname.clickable')[0].get_text()\n",
    "    print(counselor_nickname,'\\n')\n",
    "    therpy_title = soup.select('#story-comments > div > div.Comment__CommentWrapper-sc-1u7skh9-2.eYUUGp.counselor > div.contents > div > div.counselling__detail.counselling__detail--title')[0].get_text()\n",
    "    print(therpy_title)\n",
    "    hash_tag = soup.select('#story-comments > div > div.Comment__CommentWrapper-sc-1u7skh9-2.eYUUGp.counselor > div.contents > div > div:nth-child(2)')[0].get_text()\n",
    "    print(hash_tag, '\\n')\n",
    "    sub_titles = soup.select('#story-comments > div > div.Comment__CommentWrapper-sc-1u7skh9-2.eYUUGp.counselor > div.contents > div > div.counselling__title')\n",
    "    sub_contents = soup.select('#story-comments > div > div.Comment__CommentWrapper-sc-1u7skh9-2.eYUUGp.counselor > div.contents > div.counselling > div.Comment__CommentDiv-sc-1u7skh9-0.HZisR.counselling__detail.counselling__detail-multi-line')\n",
    "    summary_title = sub_titles[0].get_text()\n",
    "    print(summary_title)\n",
    "    summary_content = sub_contents[0].get_text()\n",
    "    print(summary_content)\n",
    "    analysis_title = sub_titles[1].get_text()\n",
    "    print(analysis_title)\n",
    "    analysis_content = sub_contents[1].get_text()\n",
    "    print(analysis_content)\n",
    "    solution_title = sub_titles[2].get_text()\n",
    "    print(solution_title)\n",
    "    solution_content = sub_contents[2].get_text()\n",
    "    print(solution_content)\n",
    "    \n",
    "else : \n",
    "    print(response.status_code)"
   ]
  },
  {
   "cell_type": "code",
   "execution_count": 95,
   "metadata": {},
   "outputs": [
    {
     "data": {
      "text/plain": [
       "15"
      ]
     },
     "execution_count": 95,
     "metadata": {},
     "output_type": "execute_result"
    }
   ],
   "source": [
    "name_category.index('LGBT')"
   ]
  },
  {
   "cell_type": "code",
   "execution_count": 107,
   "metadata": {},
   "outputs": [
    {
     "data": {
      "text/plain": [
       "['취업/진로',\n",
       " '직장',\n",
       " '연애',\n",
       " '성추행',\n",
       " '결혼/육아',\n",
       " '대인관계',\n",
       " '외모',\n",
       " '가족',\n",
       " '학업/고시',\n",
       " '금전/사업',\n",
       " '성생활',\n",
       " '이별/이혼',\n",
       " '중독/집착',\n",
       " '투병/신체',\n",
       " '정신건강',\n",
       " 'LGBT',\n",
       " '자아/성격',\n",
       " '따돌림',\n",
       " '응원',\n",
       " '자유']"
      ]
     },
     "execution_count": 107,
     "metadata": {},
     "output_type": "execute_result"
    }
   ],
   "source": [
    "name_category"
   ]
  },
  {
   "cell_type": "code",
   "execution_count": 116,
   "metadata": {},
   "outputs": [
    {
     "name": "stdout",
     "output_type": "stream",
     "text": [
      "연애\n"
     ]
    },
    {
     "name": "stderr",
     "output_type": "stream",
     "text": [
      "100%|██████████| 79/79 [00:18<00:00,  4.35it/s]\n"
     ]
    },
    {
     "name": "stdout",
     "output_type": "stream",
     "text": [
      "성추행\n"
     ]
    },
    {
     "name": "stderr",
     "output_type": "stream",
     "text": [
      "100%|██████████| 12/12 [00:02<00:00,  4.04it/s]\n"
     ]
    },
    {
     "name": "stdout",
     "output_type": "stream",
     "text": [
      "결혼/육아\n"
     ]
    },
    {
     "name": "stderr",
     "output_type": "stream",
     "text": [
      "100%|██████████| 100/100 [00:23<00:00,  4.20it/s]\n"
     ]
    },
    {
     "name": "stdout",
     "output_type": "stream",
     "text": [
      "대인관계\n"
     ]
    },
    {
     "name": "stderr",
     "output_type": "stream",
     "text": [
      "100%|██████████| 175/175 [00:37<00:00,  4.66it/s]\n"
     ]
    },
    {
     "name": "stdout",
     "output_type": "stream",
     "text": [
      "외모\n"
     ]
    },
    {
     "name": "stderr",
     "output_type": "stream",
     "text": [
      "100%|██████████| 18/18 [00:04<00:00,  4.22it/s]\n"
     ]
    },
    {
     "name": "stdout",
     "output_type": "stream",
     "text": [
      "가족\n"
     ]
    },
    {
     "name": "stderr",
     "output_type": "stream",
     "text": [
      "100%|██████████| 124/124 [00:28<00:00,  4.33it/s]\n"
     ]
    },
    {
     "name": "stdout",
     "output_type": "stream",
     "text": [
      "학업/고시\n"
     ]
    },
    {
     "name": "stderr",
     "output_type": "stream",
     "text": [
      "100%|██████████| 60/60 [00:12<00:00,  4.62it/s]\n"
     ]
    },
    {
     "name": "stdout",
     "output_type": "stream",
     "text": [
      "금전/사업\n"
     ]
    },
    {
     "name": "stderr",
     "output_type": "stream",
     "text": [
      "100%|██████████| 1/1 [00:00<00:00,  5.00it/s]\n"
     ]
    },
    {
     "name": "stdout",
     "output_type": "stream",
     "text": [
      "성생활\n"
     ]
    },
    {
     "name": "stderr",
     "output_type": "stream",
     "text": [
      "100%|██████████| 23/23 [00:05<00:00,  4.05it/s]\n"
     ]
    },
    {
     "name": "stdout",
     "output_type": "stream",
     "text": [
      "이별/이혼\n"
     ]
    },
    {
     "name": "stderr",
     "output_type": "stream",
     "text": [
      "100%|██████████| 79/79 [00:19<00:00,  4.14it/s]\n"
     ]
    },
    {
     "name": "stdout",
     "output_type": "stream",
     "text": [
      "중독/집착\n"
     ]
    },
    {
     "name": "stderr",
     "output_type": "stream",
     "text": [
      "100%|██████████| 63/63 [00:13<00:00,  4.58it/s]\n"
     ]
    },
    {
     "name": "stdout",
     "output_type": "stream",
     "text": [
      "투병/신체\n"
     ]
    },
    {
     "name": "stderr",
     "output_type": "stream",
     "text": [
      "100%|██████████| 20/20 [00:04<00:00,  4.55it/s]\n"
     ]
    },
    {
     "name": "stdout",
     "output_type": "stream",
     "text": [
      "정신건강\n"
     ]
    },
    {
     "name": "stderr",
     "output_type": "stream",
     "text": [
      "100%|██████████| 136/136 [00:29<00:00,  4.66it/s]\n"
     ]
    },
    {
     "name": "stdout",
     "output_type": "stream",
     "text": [
      "LGBT\n"
     ]
    },
    {
     "name": "stderr",
     "output_type": "stream",
     "text": [
      "100%|██████████| 20/20 [00:05<00:00,  3.90it/s]\n"
     ]
    },
    {
     "name": "stdout",
     "output_type": "stream",
     "text": [
      "자아/성격\n"
     ]
    },
    {
     "name": "stderr",
     "output_type": "stream",
     "text": [
      "100%|██████████| 106/106 [00:23<00:00,  4.50it/s]\n"
     ]
    },
    {
     "name": "stdout",
     "output_type": "stream",
     "text": [
      "따돌림\n"
     ]
    },
    {
     "name": "stderr",
     "output_type": "stream",
     "text": [
      "100%|██████████| 12/12 [00:02<00:00,  4.85it/s]\n"
     ]
    },
    {
     "name": "stdout",
     "output_type": "stream",
     "text": [
      "응원\n"
     ]
    },
    {
     "name": "stderr",
     "output_type": "stream",
     "text": [
      "100%|██████████| 15/15 [00:03<00:00,  4.36it/s]\n"
     ]
    },
    {
     "name": "stdout",
     "output_type": "stream",
     "text": [
      "자유\n"
     ]
    },
    {
     "name": "stderr",
     "output_type": "stream",
     "text": [
      "100%|██████████| 35/35 [00:06<00:00,  5.24it/s]\n"
     ]
    }
   ],
   "source": [
    "for cat in name_category[2:]:\n",
    "    print(cat)\n",
    "    df = sites_dict[cat]\n",
    "    # tmp ##############################\n",
    "    per_title_tmp = list()\n",
    "    per_content_tmp = list()\n",
    "    \n",
    "    counselor_nickname_tmp = list()\n",
    "    therpy_title_tmp = list()\n",
    "    hash_tag_tmp = list()\n",
    "    summary_title_tmp = list()\n",
    "    summary_content_tmp = list()\n",
    "    analysis_title_tmp = list()\n",
    "    analysis_content_tmp = list()\n",
    "    solution_title_tmp = list()\n",
    "    solution_content_tmp = list()\n",
    "    comment_only_tmp = list()\n",
    "    ####################################\n",
    "    for url in tqdm(df[cat]):\n",
    "        # print(url)\n",
    "        response = requests.get(url)\n",
    "\n",
    "        if response.status_code == 200:\n",
    "            html = response.text\n",
    "            soup = BeautifulSoup(html, 'html.parser')\n",
    "            try:\n",
    "                per_title = soup.select('#__next > div.Layout__LayoutWrapper-w6dyul-0.ddCubf > div.story__StoryWrapper-sc-6x53gv-1.icGeLJ.page > div.story.card > div.main > div.main__title')[0].get_text()\n",
    "                # print(per_title, '\\n')\n",
    "            except:\n",
    "                per_title = 'None'\n",
    "            try:\n",
    "                per_content = soup.select('#__next > div.Layout__LayoutWrapper-w6dyul-0.ddCubf > div.story__StoryWrapper-sc-6x53gv-1.icGeLJ.page > div.story.card > div.main > div.main__contents')[0].get_text()\n",
    "                # print(per_content)\n",
    "            except:\n",
    "                per_content = 'None'\n",
    "            try:\n",
    "                counselor_nickname = soup.select('#story-comments > div > div.Comment__CommentWrapper-sc-1u7skh9-2.eYUUGp.counselor > div.header > div.profile > div.nickname.clickable')[0].get_text()\n",
    "                # print(counselor_nickname,'\\n')\n",
    "            except:\n",
    "                counselor_nickname = 'None'\n",
    "            try:\n",
    "                therpy_title = soup.select('#story-comments > div > div.Comment__CommentWrapper-sc-1u7skh9-2.eYUUGp.counselor > div.contents > div > div.counselling__detail.counselling__detail--title')[0].get_text()\n",
    "                # print(therpy_title)\n",
    "            except:\n",
    "                therpy_title = 'None'\n",
    "            try:\n",
    "                hash_tag = soup.select('#story-comments > div > div.Comment__CommentWrapper-sc-1u7skh9-2.eYUUGp.counselor > div.contents > div > div:nth-child(2)')[0].get_text()\n",
    "                # print(hash_tag, '\\n')\n",
    "            except:\n",
    "                hash_tag = 'None'        \n",
    "            sub_titles = soup.select('#story-comments > div > div.Comment__CommentWrapper-sc-1u7skh9-2.eYUUGp.counselor > div.contents > div > div.counselling__title')\n",
    "            sub_contents = soup.select('#story-comments > div > div.Comment__CommentWrapper-sc-1u7skh9-2.eYUUGp.counselor > div.contents > div.counselling > div.Comment__CommentDiv-sc-1u7skh9-0.HZisR.counselling__detail.counselling__detail-multi-line')\n",
    "            try:\n",
    "                summary_title = sub_titles[0].get_text()\n",
    "                # print(summary_title)\n",
    "                summary_content = sub_contents[0].get_text()\n",
    "                #story-comments > div > div.Comment__CommentWrapper-sc-1u7skh9-2.eYUUGp.counselor > div.contents > div > div:nth-child(5)\n",
    "                #story-comments > div > div.Comment__CommentWrapper-sc-1u7skh9-2.eYUUGp.counselor > div.contents > div > div:nth-child(5)\n",
    "                # print(summary_content)\n",
    "                analysis_title = sub_titles[1].get_text()\n",
    "                # print(analysis_title)\n",
    "                analysis_content = sub_contents[1].get_text()\n",
    "                # print(analysis_content)\n",
    "                solution_title = sub_titles[2].get_text()\n",
    "                # print(solution_title)\n",
    "                solution_content = sub_contents[2].get_text()\n",
    "                # print(solution_content)        \n",
    "                comment_only = 'None'\n",
    "                per_title_tmp.append(per_title)\n",
    "                per_content_tmp.append(per_content)\n",
    "                counselor_nickname_tmp.append(counselor_nickname)\n",
    "                therpy_title_tmp.append(therpy_title)\n",
    "                hash_tag_tmp.append(hash_tag)\n",
    "                summary_title_tmp.append(summary_title)\n",
    "                summary_content_tmp.append(summary_content)\n",
    "                analysis_title_tmp.append(analysis_title)\n",
    "                analysis_content_tmp.append(analysis_content)\n",
    "                solution_title_tmp.append(solution_title)\n",
    "                solution_content_tmp.append(solution_content)\n",
    "                comment_only_tmp.append(comment_only)\n",
    "            except:\n",
    "                comment_only = soup.select('#story-comments > div > div.Comment__CommentWrapper-sc-1u7skh9-2.eYUUGp.counselor > div.contents > div')[0].get_text()\n",
    "                comment_only_tmp.append(comment_only)\n",
    "        else : \n",
    "            print(response.status_code)\n",
    "    per_title_s = pd.Series(per_title_tmp, name = '내담자 고민 제목')\n",
    "    per_content_s = pd.Series(per_content_tmp, name = '내담자 사연')\n",
    "    counselor_nickname_s = pd.Series(counselor_nickname_tmp, name = '상담사 호칭')\n",
    "    therpy_title_s = pd.Series(therpy_title_tmp, name = '상담 제목')\n",
    "    hash_tag_s = pd.Series(hash_tag_tmp, name = '고민 테그')\n",
    "    summary_title_s = pd.Series(summary_title_tmp, name = '고민요약')\n",
    "    summary_content_s = pd.Series(summary_content_tmp, name = '요약내용')\n",
    "    analysis_title_s = pd.Series(analysis_title_tmp, name = '고민분석')\n",
    "    analysis_content_s = pd.Series(analysis_content_tmp, name = '분석내용')\n",
    "    solution_title_s = pd.Series(solution_title_tmp, name = '고민해결')\n",
    "    solution_content_s = pd.Series(solution_content_tmp, name = '해결내용')\n",
    "    comment_only_s = pd.Series(comment_only_tmp, name='묶인내용')\n",
    "    \n",
    "    sites_dict[cat] = pd.concat([sites_dict[cat],per_title_s,per_content_s,\n",
    "                                                counselor_nickname_s,therpy_title_s,hash_tag_s,\n",
    "                                                summary_title_s,summary_content_s,\n",
    "                                                analysis_title_s,analysis_content_s,\n",
    "                                                solution_title_s,solution_content_s, comment_only_s], axis=1)\n",
    "    save_cat_name = cat.replace('/','')\n",
    "    sites_dict[cat].to_excel(f'./crawled_maca/{save_cat_name}_crawled.xlsx')"
   ]
  },
  {
   "cell_type": "code",
   "execution_count": null,
   "metadata": {},
   "outputs": [],
   "source": []
  },
  {
   "cell_type": "markdown",
   "metadata": {},
   "source": [
    "---\n",
    "# 테스트 및 도구 블록~"
   ]
  },
  {
   "cell_type": "code",
   "execution_count": 24,
   "metadata": {},
   "outputs": [
    {
     "name": "stdout",
     "output_type": "stream",
     "text": [
      "|성추행| 스크롤 시작~!\n",
      "0 2218\n",
      "2218 4158\n",
      "4158 6098\n",
      "6098 8038\n",
      "8038 9978\n",
      "9978 11918\n",
      "11918 13858\n",
      "13858 15798\n",
      "15798 17738\n",
      "17738 19678\n",
      "19678 21618\n",
      "21618 21618\n"
     ]
    }
   ],
   "source": [
    "# 모든 각 카테고리의 전문답변 페이지 링크 추출\n",
    "from tqdm.auto import tqdm\n",
    "url=\"https://www.mindcafe.co.kr/pc/community\"\n",
    "person_xpath = '//*[@id=\"__next\"]/div/div[2]/div[2]/div[2]'\n",
    "therapist_xpath = '//*[@id=\"story-comments\"]/div/div[1]'\n",
    "\n",
    "name_category = ['취업/진로','직장','연애','성추행','결혼/육아','대인관계','외모','가족','학업/고시','금전/사업','성생활','이별/이혼','중독/집착','투병/신체','정신건강','LGBT','자아/성격','따돌림','응원','자유']\n",
    "todo_category = name_category[3:4]\n",
    "for cat in todo_category:\n",
    "    \n",
    "    driver.get(url)\n",
    "    time.sleep(1)\n",
    "    driver.find_element(by=By.XPATH, value=view_more).click()\n",
    "    driver.find_element(by=By.XPATH, value=category_name2xpath[cat]).click()\n",
    "    \n",
    "    story_dict_by_category = dict()\n",
    "    \n",
    "    print(f'|{cat}| 스크롤 시작~!')\n",
    "    l = len(driver.find_elements(By.CLASS_NAME, 'story')) # 스토리 수 찾아서 range로 써먹기\n",
    "    limit = 1 + 1000\n",
    "    all_limit = 1+5000\n",
    "    prev_l = 0\n",
    "    prof_ans_idx = []\n",
    "    scroll_location = 0\n",
    "    while l < all_limit:\n",
    "        #스크롤 맨밑으로 내리기\n",
    "        SCROLL_PAUSE_TIME = 1.5\n",
    "        driver.execute_script(\"window.scrollTo(0, document.body.scrollHeight);\")\n",
    "        time.sleep(SCROLL_PAUSE_TIME) #1.5초 지연\n",
    "        scroll_height = driver.execute_script(\"return document.body.scrollHeight\")\n",
    "        print(scroll_location, scroll_height)\n",
    "        \n",
    "        if scroll_location == scroll_height:\n",
    "            all_limit = 1\n",
    "        else:\n",
    "            scroll_location = driver.execute_script(\"return document.body.scrollHeight\")\n",
    "        \n",
    "        "
   ]
  },
  {
   "cell_type": "code",
   "execution_count": null,
   "metadata": {},
   "outputs": [],
   "source": [
    "# 스크롤\n",
    "# https://hello-bryan.tistory.com/194\n",
    "# https://charimlab.tistory.com/entry/ep01%EC%9B%B9%ED%81%AC%EB%A1%A4%EB%A7%81-16-%EC%85%80%EB%A0%88%EB%8B%88%EC%9B%80-%EC%8A%A4%ED%81%AC%EB%A1%A4-%EC%A1%B0%EC%A0%88%ED%95%98%EA%B8%B0-with-%ED%8C%8C%EC%9D%B4%EC%8D%AC\n",
    "# driver.execute_script(\"window.scrollTo(0, Y)\")  # Y = height\n"
   ]
  },
  {
   "cell_type": "code",
   "execution_count": 12,
   "metadata": {},
   "outputs": [
    {
     "data": {
      "text/plain": [
       "2218"
      ]
     },
     "execution_count": 12,
     "metadata": {},
     "output_type": "execute_result"
    }
   ],
   "source": [
    "driver.execute_script(\"return document.body.scrollHeight\")\n",
    "# 출처: https://charimlab.tistory.com/entry/ep01웹크롤링-16-셀레니움-스크롤-조절하기-with-파이썬 [챠마랩  : 챠림의마케팅연구소:티스토리]"
   ]
  },
  {
   "cell_type": "code",
   "execution_count": null,
   "metadata": {},
   "outputs": [],
   "source": [
    "document.body.scrollHeight"
   ]
  },
  {
   "cell_type": "code",
   "execution_count": null,
   "metadata": {},
   "outputs": [],
   "source": [
    "url=\"https://www.mindcafe.co.kr/pc/community\"\n",
    "driver.get(url)\n",
    "time.sleep(3)\n",
    "\n",
    "# driver.find_element_by_xpath('//*[@id=\"search.keyword.query\"]').click()\n",
    "# # search=driver.find_element_by_css_selector('#search\\.keyword\\.query')\n",
    "# search=driver.find_element_by_xpath('//*[@id=\"search.keyword.query\"]')\n",
    "# search.send_keys(\"광주광역시 아파트\")\n",
    "# driver.find_element_by_xpath('//*[@id=\"search.keyword.submit\"]').click()\n",
    "# driver.find_element_by_xpath('//*[@id=\"info.search.place.more\"]').click() # 더보기 최초 1회"
   ]
  },
  {
   "cell_type": "code",
   "execution_count": 9,
   "metadata": {},
   "outputs": [
    {
     "data": {
      "text/plain": [
       "{0: '//*[@id=\"__next\"]/div/div[2]/div/div[1]/div[1]/div[1]/div[1]/div',\n",
       " 1: '//*[@id=\"__next\"]/div/div[2]/div/div[1]/div[1]/div[1]/div[2]/div[2]/div[1]',\n",
       " 2: '//*[@id=\"__next\"]/div/div[2]/div/div[1]/div[1]/div[1]/div[2]/div[2]/div[2]',\n",
       " 3: '//*[@id=\"__next\"]/div/div[2]/div/div[1]/div[1]/div[1]/div[2]/div[2]/div[3]',\n",
       " 4: '//*[@id=\"__next\"]/div/div[2]/div/div[1]/div[1]/div[1]/div[2]/div[2]/div[4]',\n",
       " 5: '//*[@id=\"__next\"]/div/div[2]/div/div[1]/div[1]/div[1]/div[2]/div[2]/div[12]',\n",
       " 6: '//*[@id=\"__next\"]/div/div[2]/div/div[1]/div[1]/div[1]/div[2]/div[2]/div[6]',\n",
       " 7: '//*[@id=\"__next\"]/div/div[2]/div/div[1]/div[1]/div[1]/div[2]/div[2]/div[7]',\n",
       " 8: '//*[@id=\"__next\"]/div/div[2]/div/div[1]/div[1]/div[1]/div[2]/div[2]/div[8]',\n",
       " 9: '//*[@id=\"__next\"]/div/div[2]/div/div[1]/div[1]/div[1]/div[2]/div[2]/div[9]',\n",
       " 10: '//*[@id=\"__next\"]/div/div[2]/div/div[1]/div[1]/div[1]/div[2]/div[2]/div[10]',\n",
       " 11: '//*[@id=\"__next\"]/div/div[2]/div/div[1]/div[1]/div[1]/div[2]/div[2]/div[11]',\n",
       " 12: '//*[@id=\"__next\"]/div/div[2]/div/div[1]/div[1]/div[1]/div[2]/div[2]/div[12]',\n",
       " 13: '//*[@id=\"__next\"]/div/div[2]/div/div[1]/div[1]/div[1]/div[2]/div[2]/div[13]',\n",
       " 14: '//*[@id=\"__next\"]/div/div[2]/div/div[1]/div[1]/div[1]/div[2]/div[2]/div[14]',\n",
       " 15: '//*[@id=\"__next\"]/div/div[2]/div/div[1]/div[1]/div[1]/div[2]/div[2]/div[15]',\n",
       " 16: '//*[@id=\"__next\"]/div/div[2]/div/div[1]/div[1]/div[1]/div[2]/div[2]/div[16]',\n",
       " 17: '//*[@id=\"__next\"]/div/div[2]/div/div[1]/div[1]/div[1]/div[2]/div[2]/div[17]',\n",
       " 18: '//*[@id=\"__next\"]/div/div[2]/div/div[1]/div[1]/div[1]/div[2]/div[2]/div[18]',\n",
       " 19: '//*[@id=\"__next\"]/div/div[2]/div/div[1]/div[1]/div[1]/div[2]/div[2]/div[19]',\n",
       " 20: '//*[@id=\"__next\"]/div/div[2]/div/div[1]/div[1]/div[1]/div[3]/div[2]/div',\n",
       " 21: '//*[@id=\"__next\"]/div/div[2]/div/div[1]/div[1]/div[1]/div[4]/div[2]/div'}"
      ]
     },
     "execution_count": 9,
     "metadata": {},
     "output_type": "execute_result"
    }
   ],
   "source": [
    "category_name2xpath\n",
    "category_id2xpath"
   ]
  },
  {
   "cell_type": "code",
   "execution_count": 9,
   "metadata": {},
   "outputs": [
    {
     "name": "stderr",
     "output_type": "stream",
     "text": [
      "C:\\Users\\82109\\AppData\\Local\\Temp/ipykernel_15492/3561791226.py:3: DeprecationWarning: find_element_by_xpath is deprecated. Please use find_element(by=By.XPATH, value=xpath) instead\n",
      "  driver.find_element_by_xpath(view_more).click()\n",
      "C:\\Users\\82109\\AppData\\Local\\Temp/ipykernel_15492/3561791226.py:4: DeprecationWarning: find_element_by_xpath is deprecated. Please use find_element(by=By.XPATH, value=xpath) instead\n",
      "  driver.find_element_by_xpath(category_name2xpath['취업/진로']).click()\n"
     ]
    }
   ],
   "source": [
    "driver.get(url)\n",
    "time.sleep(1)\n",
    "driver.find_element_by_xpath(view_more).click()\n",
    "driver.find_element_by_xpath(category_name2xpath['취업/진로']).click()\n",
    "# driver.find_element_by_xpath(category_id2xpath[0]).click() # 나중에 range 주고 모든 카테고리별로 한번에 크롤링하기 위한 코드~\n",
    "\n"
   ]
  },
  {
   "cell_type": "code",
   "execution_count": 100,
   "metadata": {},
   "outputs": [],
   "source": [
    "# 스크롤\n",
    "#스크롤 맨밑으로 내리기\n",
    "SCROLL_PAUSE_TIME = 0.5\n",
    "\n",
    "driver.execute_script(\"window.scrollTo(0, document.body.scrollHeight);\")\n",
    "time.sleep(SCROLL_PAUSE_TIME) #1.5초 지연"
   ]
  },
  {
   "cell_type": "markdown",
   "metadata": {},
   "source": [
    "1. 페이지 스크롤을 쭈욱 컨텐츠들 쌓일때까지 하기 (일정 길이동안) (해당 스토리 들어갔다 나와도 로드된건 그대로 남아있음) 스크롤 하면 스토리 20개씩 로드됨\n",
    "    n번째 스토리 전체 wrapping //*[@id=\"__next\"]/div/div[3]/div/div[2]/div/div[7] <- 여기서 7번이 전문가 답변이 있는 인덱스로 변환되면 됨\n",
    "2. 전문답변이 들어간 컨텐츠 xpath를 리스트에 담기 (20개 정도 담기)\n",
    "3. 전문답변이 있는 컨텐츠를 for loop을 돌리면서 새탭으로 열기\n",
    "    - 새탭으로 열린 컨텐츠에서 사연제목, 사연content, 해시태그, 전문답변, 그리고 베타봇 있으면 모두 크롤링하기 \n",
    "    - Tab 닫기\n",
    "    - 3번 반복\n",
    "4. 카테고리별 데이터프레임으로 만들기\n"
   ]
  },
  {
   "cell_type": "code",
   "execution_count": 41,
   "metadata": {},
   "outputs": [
    {
     "data": {
      "text/plain": [
       "'취업/진로'"
      ]
     },
     "execution_count": 41,
     "metadata": {},
     "output_type": "execute_result"
    }
   ],
   "source": [
    "driver.find_element(by=By.XPATH, value='//*[@id=\"__next\"]/div/div[3]/div/div[2]/div/div[1]')\n",
    "t = driver.find_element(by=By.XPATH, value='//*[@id=\"__next\"]/div/div[3]/div/div[2]/div/div[1]/div/div[1]/div[1]/div')\n",
    "t.text"
   ]
  },
  {
   "cell_type": "code",
   "execution_count": 20,
   "metadata": {},
   "outputs": [
    {
     "data": {
      "text/plain": [
       "'전문답변\\n취업/진로'"
      ]
     },
     "execution_count": 20,
     "metadata": {},
     "output_type": "execute_result"
    }
   ],
   "source": [
    "driver.find_element(by=By.XPATH, value='//*[@id=\"__next\"]/div/div[3]/div/div[2]/div/div[4]/div/div[1]/div[1]').text"
   ]
  },
  {
   "cell_type": "code",
   "execution_count": 10,
   "metadata": {},
   "outputs": [
    {
     "name": "stdout",
     "output_type": "stream",
     "text": [
      "전문답변 len = 37 limit len = 1001\n",
      "전문답변 len = 118 limit len = 2001\n"
     ]
    }
   ],
   "source": [
    "# 최적의 전문답변을 도출하기 위해 몇줄까지 스크롤 해야하는지\n",
    "l = len(driver.find_elements(by=By.CLASS_NAME, value='story')) # 스토리 수 찾아서 range로 써먹기\n",
    "limit = 1 + 1000\n",
    "all_limit = 1+5000\n",
    "prev_l = 1\n",
    "prof_ans_idx = []\n",
    "while l < all_limit:\n",
    "    #스크롤 맨밑으로 내리기\n",
    "    SCROLL_PAUSE_TIME = 0.5\n",
    "    driver.execute_script(\"window.scrollTo(0, document.body.scrollHeight);\")\n",
    "    time.sleep(SCROLL_PAUSE_TIME) #1.5초 지연\n",
    "    l = len(driver.find_elements(by=By.CLASS_NAME, value='story')) # 스토리 수 찾아서 range로 써먹기\n",
    "    if l > limit:\n",
    "        for num in range(prev_l, l+1):\n",
    "            res = driver.find_element(by=By.XPATH, value=f'//*[@id=\"__next\"]/div/div[3]/div/div[2]/div/div[{num}]/div/div[1]/div[1]').text\n",
    "            if '전문답변' in res:\n",
    "                prof_ans_idx.append(num)\n",
    "        print('전문답변 len =',len(prof_ans_idx), f'limit len = {limit}')\n",
    "        limit +=1000\n",
    "        prev_l = l\n",
    "        \n",
    "    if len(prof_ans_idx) > 100:\n",
    "        all_limit = 0\n",
    "        print('탐방 종료~!')\n",
    "            \n",
    "# 취업/진로 -> 전문답변, limit_len,\n",
    "# 전문답변 len = 37 limit len = 1001\n",
    "# 전문답변 len = 118 limit len = 2001\n",
    "\n",
    "# |일반 고민| 탐방 시작~!\n",
    "# 전문답변 len = 32 limit len = 1001\n",
    "# 전문답변 len = 65 limit len = 2001\n",
    "# 전문답변 len = 97 limit len = 3001\n",
    "# 전문답변 len = 125 limit len = 4001\n",
    "# |일반 고민| 탐방 종료~!\n"
   ]
  },
  {
   "cell_type": "code",
   "execution_count": null,
   "metadata": {},
   "outputs": [],
   "source": [
    "# 탐방코드를 바디로 크롤링까지~\n",
    "name_category = ['일반 고민','취업/진로','직장','연애','성추행','결혼/육아','대인관계','외모','가족','학업/고시','금전/사업','성생활','이별/이혼','중독/집착','투병/신체','정신건강','LGBT','자아/성격','따돌림','응원','자유']\n",
    "for cat in name_category:\n",
    "    driver.get(url)\n",
    "    time.sleep(1)\n",
    "    driver.find_element(by=By.XPATH, value=view_more).click()\n",
    "    driver.find_element(by=By.XPATH, value=category_name2xpath[cat]).click()\n",
    "    # driver.find_element_by_xpath(category_id2xpath[0]).click() # 나중에 range 주고 모든 카테고리별로 한번에 크롤링하기 위한 코드~\n",
    "\n",
    "    print(f'|{cat}| 탐방 시작~!')\n",
    "\n",
    "    l# 최적의 전문답변을 도출하기 위해 몇줄까지 스크롤 해야하는지\n",
    "    l = len(driver.find_elements(by=By.CLASS_NAME, value='story')) # 스토리 수 찾아서 range로 써먹기\n",
    "    limit = 1 + 1000\n",
    "    all_limit = 1+5000\n",
    "    prev_l = 1\n",
    "    prof_ans_idx = []\n",
    "    while l < all_limit:\n",
    "        #스크롤 맨밑으로 내리기\n",
    "        SCROLL_PAUSE_TIME = 0.5\n",
    "        driver.execute_script(\"window.scrollTo(0, document.body.scrollHeight);\")\n",
    "        time.sleep(SCROLL_PAUSE_TIME) #1.5초 지연\n",
    "        l = len(driver.find_elements(by=By.CLASS_NAME, value='story')) # 스토리 수 찾아서 range로 써먹기\n",
    "        if l > limit:\n",
    "            for num in range(prev_l, l+1):\n",
    "                res = driver.find_element(by=By.XPATH, value=f'//*[@id=\"__next\"]/div/div[3]/div/div[2]/div/div[{num}]/div/div[1]/div[1]').text\n",
    "                if '전문답변' in res:\n",
    "                    prof_ans_idx.append(num)\n",
    "            print('전문답변 len =',len(prof_ans_idx), f'limit len = {limit}')\n",
    "            limit +=1000\n",
    "            prev_l = l\n",
    "            \n",
    "        if len(prof_ans_idx) > 100:\n",
    "            all_limit = 0\n",
    "            print(f'|{cat}| 탐방 종료~!')"
   ]
  },
  {
   "cell_type": "code",
   "execution_count": 109,
   "metadata": {},
   "outputs": [
    {
     "name": "stdout",
     "output_type": "stream",
     "text": [
      "36\n"
     ]
    }
   ],
   "source": [
    "l = len(driver.find_elements(by=By.CLASS_NAME, value='story')) # 스토리 수 찾아서 range로 써먹기\n",
    "\n",
    "prof_ans_idx = []\n",
    "for num in range(1, l+1):\n",
    "    res = driver.find_element(by=By.XPATH, value=f'//*[@id=\"__next\"]/div/div[3]/div/div[2]/div/div[{num}]/div/div[1]/div[1]').text\n",
    "    # print(res.strip())\n",
    "    if '전문답변' in res: # 이렇게 넣어줘야함;;\n",
    "        # print('전문답변')\n",
    "        # print(repr(res)) # print raw string\n",
    "        prof_ans_idx.append(num)\n",
    "print(len(prof_ans_idx))"
   ]
  },
  {
   "cell_type": "code",
   "execution_count": 67,
   "metadata": {},
   "outputs": [
    {
     "name": "stdout",
     "output_type": "stream",
     "text": [
      "'전문답변\\n취업/진로'\n",
      "'전문답변\\n취업/진로'\n"
     ]
    }
   ],
   "source": [
    "for num in prof_ans_idx:\n",
    "    res = driver.find_element(by=By.XPATH, value=f'//*[@id=\"__next\"]/div/div[3]/div/div[2]/div/div[{num}]/div/div[1]/div[1]').text\n",
    "    print(repr(res))"
   ]
  },
  {
   "cell_type": "code",
   "execution_count": 103,
   "metadata": {},
   "outputs": [
    {
     "data": {
      "text/plain": [
       "300"
      ]
     },
     "execution_count": 103,
     "metadata": {},
     "output_type": "execute_result"
    }
   ],
   "source": [
    "l = len(driver.find_elements(by=By.CLASS_NAME, value='story')) # 스토리 수 찾아서 range로 써먹기\n",
    "l\n",
    "# //*[@id=\"__next\"]/div/div[3]/div/div[2]/div/div[1]"
   ]
  },
  {
   "cell_type": "markdown",
   "metadata": {},
   "source": [
    "1. 스크롤\n",
    "2. range 찾기 \n",
    "3. 전문답변에 해당하는 num 찾아서 리스트에 추가\n",
    "4. 들어갔다 나왔다 하면서 내용 크롤링 노노 \n",
    "4. 수정: 들어가는 href 링크를 모으기~! (작동가능)\n",
    "5. 모은 링크들로부터 BeautifulSoup으로 파싱하기"
   ]
  },
  {
   "cell_type": "code",
   "execution_count": 17,
   "metadata": {},
   "outputs": [
    {
     "name": "stderr",
     "output_type": "stream",
     "text": [
      "C:\\Users\\82109\\AppData\\Local\\Temp/ipykernel_15492/124744116.py:3: DeprecationWarning: find_element_by_xpath is deprecated. Please use find_element(by=By.XPATH, value=xpath) instead\n",
      "  driver.find_element_by_xpath(view_more).click()\n",
      "C:\\Users\\82109\\AppData\\Local\\Temp/ipykernel_15492/124744116.py:4: DeprecationWarning: find_element_by_xpath is deprecated. Please use find_element(by=By.XPATH, value=xpath) instead\n",
      "  driver.find_element_by_xpath(category_name2xpath['연애']).click()\n"
     ]
    }
   ],
   "source": [
    "driver.get(url)\n",
    "time.sleep(1)\n",
    "driver.find_element_by_xpath(view_more).click()\n",
    "driver.find_element_by_xpath(category_name2xpath['연애']).click()\n",
    "# driver.find_element_by_xpath(category_id2xpath[0]).click() # 나중에 range 주고 모든 카테고리별로 한번에 크롤링하기 위한 코드~"
   ]
  },
  {
   "cell_type": "code",
   "execution_count": 19,
   "metadata": {},
   "outputs": [],
   "source": [
    "# 전문답변 클릭 alert: find_element임 s붙이면안됨 리스트형태로 변해서 에러\n",
    "num = 5\n",
    "driver.find_element(by=By.XPATH, value=f'//*[@id=\"__next\"]/div/div[3]/div/div[2]/div/div[{num}]').click()\n",
    "# //*[@id=\"__next\"]/div/div[3]/div/div[2]/div/div[994]/div/div[2]\n",
    "# //*[@id=\"__next\"]/div/div[3]/div/div[2]/div/div[4]/div/div[2]/a[1]\n",
    "\n",
    "\n",
    "# //*[@id=\"__next\"]/div/div[3]/div/div[2]/div/div[5]/div"
   ]
  },
  {
   "cell_type": "code",
   "execution_count": 15,
   "metadata": {},
   "outputs": [],
   "source": [
    "# 개인 사연글에서 뒤로가기 버튼\n",
    "driver.find_element(by=By.XPATH, value=back_button).click()"
   ]
  },
  {
   "cell_type": "code",
   "execution_count": 20,
   "metadata": {},
   "outputs": [],
   "source": [
    "# 답변 추출을 제이슨 형태로?\n",
    "# '연애' : \n",
    "# {'취업/진로': {내담자 : [질문, 질문, 질문], 상담사 : [답변, 답변, 답변]}}\n",
    "\n",
    "person_req = list()\n",
    "therapist_ans = list()\n",
    "\n",
    "person_xpath = '//*[@id=\"__next\"]/div/div[2]/div[2]/div[2]'\n",
    "therapist_xpath = '//*[@id=\"story-comments\"]/div/div[1]'\n",
    "\n",
    "person_text = driver.find_element(by=By.XPATH, value=person_xpath).text\n",
    "\n",
    "# 전문답변은 항상 1빠로 등록됨\n",
    "therapist_text = driver.find_element(by=By.XPATH, value=therapist_xpath).text\n",
    "\n",
    "person_req.append(person_text)\n",
    "therapist_ans.append(therapist_text)\n",
    "# //*[@id=\"story-comments\"]/div/div[1]\n",
    "# //*[@id=\"story-comments\"]/div/div[1]"
   ]
  },
  {
   "cell_type": "code",
   "execution_count": 59,
   "metadata": {},
   "outputs": [],
   "source": [
    "driver.find_element(by=By.XPATH, value = '//*[@id=\"__next\"]/div/div[3]/div/div[2]/div/div[5]/div/div[2]').get_attribute('href')\n",
    "#__next > div > div.community__CommunityWrapper-sc-49nndi-1.jjRZgT > div > div.CommunityStories__StoriesWrapper-pqg6h7-0.HIayx > div > div:nth-child(5) > div"
   ]
  },
  {
   "cell_type": "code",
   "execution_count": 68,
   "metadata": {},
   "outputs": [],
   "source": [
    "# driver.find_element(by=By.ID, value = 'story')\n",
    "# driver.find_element_by_id('story')\n",
    "ellist = driver.find_elements(By.CLASS_NAME, 'story')"
   ]
  },
  {
   "cell_type": "code",
   "execution_count": null,
   "metadata": {},
   "outputs": [],
   "source": [
    "ellist[4].find_element(by=By.TAG_NAME, value='a').get_attribute('href')"
   ]
  },
  {
   "cell_type": "code",
   "execution_count": null,
   "metadata": {},
   "outputs": [],
   "source": [
    "# 모든 각 카테고리의 전문답변 페이지 링크 추출\n",
    "from tqdm.auto import tqdm\n",
    "\n",
    "person_xpath = '//*[@id=\"__next\"]/div/div[2]/div[2]/div[2]'\n",
    "therapist_xpath = '//*[@id=\"story-comments\"]/div/div[1]'\n",
    "\n",
    "name_category = ['취업/진로','직장','연애','성추행','결혼/육아','대인관계','외모','가족','학업/고시','금전/사업','성생활','이별/이혼','중독/집착','투병/신체','정신건강','LGBT','자아/성격','따돌림','응원','자유']\n",
    "todo_category = name_category[1:]\n",
    "for cat in todo_category:\n",
    "    \n",
    "    driver.get(url)\n",
    "    time.sleep(1)\n",
    "    driver.find_element(by=By.XPATH, value=view_more).click()\n",
    "    driver.find_element(by=By.XPATH, value=category_name2xpath[cat]).click()\n",
    "    \n",
    "    story_dict_by_category = dict()\n",
    "    \n",
    "    l = len(driver.find_elements(By.CLASS_NAME, 'story')) # 스토리 수 찾아서 range로 써먹기\n",
    "    limit = 1 + 1000\n",
    "    all_limit = 1+5000\n",
    "    prev_l = 0\n",
    "    prof_ans_idx = []\n",
    "    while l < all_limit:\n",
    "        #스크롤 맨밑으로 내리기\n",
    "        SCROLL_PAUSE_TIME = 0.5\n",
    "        driver.execute_script(\"window.scrollTo(0, document.body.scrollHeight);\")\n",
    "        time.sleep(SCROLL_PAUSE_TIME) #1.5초 지연\n",
    "        l = len(driver.find_elements(By.CLASS_NAME, 'story')) # 스토리 수 찾아서 range로 써먹기\n",
    "        # print(l)\n",
    "        if l > limit:\n",
    "            story_lists = driver.find_elements(By.CLASS_NAME, 'story')\n",
    "            for num in tqdm(range(prev_l, l)):\n",
    "                # 여기도 story에서 한번에 인덱스 정보 가져오기\n",
    "                # res = driver.find_element(by=By.XPATH, value=f'//*[@id=\"__next\"]/div/div[3]/div/div[2]/div/div[{num}]/div/div[1]/div[1]').text\n",
    "                try:\n",
    "                    res = story_lists[num].find_element(by=By.CLASS_NAME, value='story__header__info').text\n",
    "                    if '전문답변' in res:\n",
    "                        prof_ans_idx.append(num)\n",
    "                except:\n",
    "                    print(f'error idx : {num} len_l : {l}')\n",
    "                    print(f'prof_ans_idx: {prof_ans_idx}')\n",
    "            # print('전문답변 len =',len(prof_ans_idx), f'limit len = {limit}')\n",
    "            limit +=1000\n",
    "            prev_l = l\n",
    "            \n",
    "        if len(prof_ans_idx) > 100:\n",
    "            all_limit = 0\n",
    "            print(f'탐방 종료~! 추출 시작~! 추출 길이 : {len(prof_ans_idx)}')\n",
    "            \n",
    "    if all_limit !=0:\n",
    "        print(f'탐방 종료 but {all_limit} 길이 동안 100 개 못채움, 추출할 길이 : {len(prof_ans_idx)}')\n",
    "    \n",
    "    pages = []\n",
    "    storylist = driver.find_elements(By.CLASS_NAME, 'story') # 전체 스토리 정보\n",
    "    for tam_idx in prof_ans_idx:\n",
    "        # driver.find_element(by=By.XPATH, value=f'//*[@id=\"__next\"]/div/div[3]/div/div[2]/div/div[{tam_idx}]').click()\n",
    "        page = storylist[tam_idx].find_element(by=By.TAG_NAME, value='a').get_attribute('href')\n",
    "        pages.append(page)\n",
    "        \n",
    "    story_dict_by_category[cat] = pages\n",
    "    if '/' in cat:\n",
    "        cat = cat.replace('/', '')\n",
    "        pd.DataFrame.from_dict(story_dict_by_category).to_excel(cat + '_전문상담sites.xlsx', index=False)\n",
    "    else:\n",
    "        pd.DataFrame.from_dict(story_dict_by_category).to_excel(cat + '_전문상담sites.xlsx', index=False)"
   ]
  },
  {
   "cell_type": "code",
   "execution_count": 15,
   "metadata": {},
   "outputs": [
    {
     "data": {
      "text/plain": [
       "True"
      ]
     },
     "execution_count": 15,
     "metadata": {},
     "output_type": "execute_result"
    }
   ],
   "source": [
    "# person_text = driver.find_element(by=By.XPATH, value=person_xpath).text # 내담자 글\n",
    "# therapist_text = driver.find_element(by=By.XPATH, value=therapist_xpath).text # 상담사 글\n",
    "# story_dict['내담자'].append(person_text) # 내담자 글 가져오기\n",
    "# therapist_ans['상담사'].append(therapist_text) # 상담사 글 가져오기\n",
    "# driver.find_element(by=By.XPATH, value=back_button).click() # 뒤로가기\n",
    "\n",
    "#  story_dict = {'내담자':[], '상담사':[]}"
   ]
  },
  {
   "cell_type": "code",
   "execution_count": 16,
   "metadata": {},
   "outputs": [],
   "source": []
  },
  {
   "cell_type": "code",
   "execution_count": 17,
   "metadata": {},
   "outputs": [],
   "source": [
    "pd.DataFrame.from_dict(story_dict_by_category).to_excel(f'{cat}_전문상담sites.xlsx', index=False)"
   ]
  },
  {
   "cell_type": "code",
   "execution_count": null,
   "metadata": {},
   "outputs": [],
   "source": [
    "pd.DataFrame.from_dict(story_dict_by_category)"
   ]
  },
  {
   "cell_type": "code",
   "execution_count": 112,
   "metadata": {},
   "outputs": [
    {
     "data": {
      "text/plain": [
       "'취업/진로'"
      ]
     },
     "execution_count": 112,
     "metadata": {},
     "output_type": "execute_result"
    }
   ],
   "source": [
    "storylist[8].find_element(by=By.CLASS_NAME, value='story__header__info').text"
   ]
  },
  {
   "cell_type": "code",
   "execution_count": 111,
   "metadata": {},
   "outputs": [
    {
     "data": {
      "text/plain": [
       "'전문답변\\n취업/진로'"
      ]
     },
     "execution_count": 111,
     "metadata": {},
     "output_type": "execute_result"
    }
   ],
   "source": [
    "storylist[9].find_element(by=By.CLASS_NAME, value='story__header__info').text"
   ]
  },
  {
   "cell_type": "code",
   "execution_count": 87,
   "metadata": {},
   "outputs": [
    {
     "data": {
      "text/plain": [
       "'전문답변\\n취업/진로'"
      ]
     },
     "execution_count": 87,
     "metadata": {},
     "output_type": "execute_result"
    }
   ],
   "source": [
    "driver.find_element(by=By.XPATH, value=f'//*[@id=\"__next\"]/div/div[3]/div/div[2]/div/div[234]/div/div[1]/div[1]').text"
   ]
  },
  {
   "cell_type": "code",
   "execution_count": null,
   "metadata": {},
   "outputs": [],
   "source": [
    "story_dict_by_category"
   ]
  },
  {
   "cell_type": "code",
   "execution_count": 27,
   "metadata": {},
   "outputs": [],
   "source": [
    "story_dict = {'내담자':[], '상담사':[]}\n",
    "story_dict_by_category = dict()"
   ]
  },
  {
   "cell_type": "code",
   "execution_count": 29,
   "metadata": {},
   "outputs": [],
   "source": [
    "story_dict['내담자'].append('안녕하세요')"
   ]
  },
  {
   "cell_type": "code",
   "execution_count": 32,
   "metadata": {},
   "outputs": [],
   "source": [
    "story_dict_by_category['취업/진로'] = story_dict"
   ]
  },
  {
   "cell_type": "code",
   "execution_count": 33,
   "metadata": {},
   "outputs": [
    {
     "data": {
      "text/plain": [
       "{'연애': {'내담자': ['안녕하세요', '안녕하세요'], '상담사': []},\n",
       " '취업/진로': {'내담자': ['안녕하세요', '안녕하세요'], '상담사': []}}"
      ]
     },
     "execution_count": 33,
     "metadata": {},
     "output_type": "execute_result"
    }
   ],
   "source": [
    "story_dict_by_category"
   ]
  },
  {
   "cell_type": "code",
   "execution_count": 153,
   "metadata": {},
   "outputs": [
    {
     "name": "stdout",
     "output_type": "stream",
     "text": [
      "['제가 너무 못난걸까요?\\n현재 대학교를 재학 중인 학생입니다.\\n종강을 해서 지금 슬슬 성적이 나오는데\\n저보다 높은 성적의 친구들을 볼때 마다 질투가 나기도 하고...\\n왜 나는 이러지? 왜 못하는거지?라는 생각 때문에 너무 우울해지기도 하고... 더 나아가서 미래에 대한 걱정이 너무 되기도 해요\\n친구들을 축하해주지는 못할 망정 질투하는 제가 너무 속좁아보이고 너무 싫기도 해요...\\n제가 너무 못난걸까요? 열등감을 어떻게 하면 극복할 수 있을까요?\\n열등감불안우울의욕없음'] \n",
      "\n",
      " ['윤수진 코치 님의 전문답변\\n프로필\\n하루 전\\n나의 현재와 앞으로의 목표를 명확히 하기\\n#자존감올리기#열등감을활용하기#나의속도와#목표를#명확히하기\\n안녕하세요\\n마인드카페 코치 윤수진입니다.\\n\\n종강을 앞두고 성적이 나오는 상황에 여러가지 감정이 올라오는 상황이네요.\\n\\n마카님의 상황을 같이 들여다 보고 머무는 시간이 되길 기대합니다.\\n아울러 앞으로의 학교 생활에 조금이나마 방향등을 켜는 시간이 되길 바라는 마음으로 글을 남깁니다.\\n[공개사연 고민요약]\\n성적 결과를 앞두고 나의 성적과 친구들과의 결과를 나도 모르게 비교하게 되고 그 과정에서 올라오는 나의 열등감과 마주하고 계시네요\\n\\n더 나아가 마카님의 미래에 대한 걱정, 불안감이 올라오시네요.\\n\\n미래가 아닌 현재 Here and Now에 집중할 수 있는 시간이 되기를 바랍니다.\\n[고민과 관련된 원인 분석]\\n마카님이 남겨주신\\n <저보다 높은 성적의 친구들을 볼때 마다 질투가 나기도 하고... 친구들을 축하해주지는 못할 망정 질투하는 제가 너무 속좁아보이고 너무 싫기도 해요...\\n제가 너무 못난걸까요? 열등감을 어떻게 하면 극복할 수 있을까요? >\\n부분은 사람이라면 누구나 가지고 있는 인정 받고 싶은 욕구, 성장욕구 등이 마카니에게도 있는 것으로 보여집니다.\\n마카님이 열등감이라 느끼는 것은 나쁜 것 만이 아닌 나를 그래서 어떻게 성장 시킬 매개로 활용할 것이냐에 집중해 주시면 좋을 것 같아요.\\n[해결방안과 대처에 대한 방향 제시]\\n그렇다면 열등감과 우월감을 어떻게 가져갈 것인가에 대해 조금 남겨드리면\\n마카님의 앞으로의 대학생활에서의 단기 목표 그리고 그 넘어를 생각하는 장기 목표를 먼저 생각해 주세요.\\n그러한 목표가 구체화가 되면 그 목표에 나를 지지해줄 외부 지지자원은 누구인지, 그리고 나를 둘러싼 환경 분위기 등등이 나에게 미치는 영향(장점과 단점)를 구체적으로 적어보세요\\n아마도 같이 공부하는 친구들이 장점과 단점에 영향을 미치고 있을 겁니다\\n그 장점과 단점에 마카님은 어느 것에 집중해서 활용할 것인지 생각해보세요.\\n자존감 회복 우월감을 느끼기 위해선 지금 마카님이 목표를 잡은 것을 향해 나아가는 그 과정에 적극적인 지지를 해주세요\\n과정안에서 일어나는 작은 성공경험에 함께 해주세요.\\n열등감에 머물고 말 것인지 그 열등감을 넘어설 것인지 생각해보시구요.\\n마카님의 대학생활에 활기와 에너지가 올라오길 바랍니다.\\n구체적인 목표 설정과 다각도로 들여다 보시길 원하면 코칭을 경험해 보시길 권해드립니다.\\n\\n세상의 모든 감정과 마주하는 코치 윤수진 드림\\n3명이 공감']\n"
     ]
    }
   ],
   "source": [
    "print(person_req,'\\n'*2, therapist_ans)"
   ]
  },
  {
   "cell_type": "code",
   "execution_count": null,
   "metadata": {},
   "outputs": [],
   "source": [
    "# 전체 stories\n",
    "# //*[@id=\"__next\"]/div/div[3]/div/div[2]/div\n",
    "\n",
    "# 전문답변 : \n",
    "# //*[@id=\"__next\"]/div/div[3]/div/div[2]/div/div[4]/div/div[1]/div[1]/div[1]\n",
    "# //*[@id=\"__next\"]/div/div[3]/div/div[2]/div/div[7]/div/div[1]/div[1]/div[1]\n",
    "# //*[@id=\"__next\"]/div/div[3]/div/div[2]/div/div[7]/div\n",
    "# n번째 스토리 전체 wrapping //*[@id=\"__next\"]/div/div[3]/div/div[2]/div/div[7]\n",
    "\n",
    "# 스크롤 쭉 했을때\n",
    "# //*[@id=\"__next\"]/div/div[3]/div/div[2]/div/div[398]/div/div[1]/div[1]/div[1] # 398번째\n",
    "# //*[@id=\"__next\"]/div/div[3]/div/div[2]/div/div[398]/div/div[1]/div[1]\n",
    "\n",
    "#전문 답변이 있는 path는 div가 [1,2]로 분리되어 있음 !!주의\n",
    "# //*[@id=\"__next\"]/div/div[3]/div/div[2]/div/div[398]/div/div[1]/div[1]/div[1] # 전문답변 \n",
    "# //*[@id=\"__next\"]/div/div[3]/div/div[2]/div/div[398]/div/div[1]/div[1]/div[2] # 취업/진로\n",
    "# //*[@id=\"__next\"]/div/div[3]/div/div[2]/div/div[399]/div/div[1]/div[1]/div # 취업/진로"
   ]
  },
  {
   "cell_type": "code",
   "execution_count": 62,
   "metadata": {},
   "outputs": [
    {
     "name": "stderr",
     "output_type": "stream",
     "text": [
      "C:\\Users\\82109\\AppData\\Local\\Temp/ipykernel_111076/2415462908.py:2: DeprecationWarning: find_element_by_xpath is deprecated. Please use find_element(by=By.XPATH, value=xpath) instead\n",
      "  driver.find_element_by_xpath(content_xpath).click()\n"
     ]
    }
   ],
   "source": [
    "content_xpath = '//*[@id=\"__next\"]/div/div[3]/div/div[2]/div/div[77]/div/div[2]/a[2]' # 해당 contents를 찾아야함\n",
    "# 전문답변이 들어간 contents를\n",
    "\n",
    "driver.find_element_by_xpath(content_xpath).click()"
   ]
  },
  {
   "cell_type": "code",
   "execution_count": null,
   "metadata": {},
   "outputs": [],
   "source": [
    "# 버튼\n",
    "# //*[@id=\"__next\"]/div/div[2]/div[1]/div[1]"
   ]
  },
  {
   "cell_type": "code",
   "execution_count": 49,
   "metadata": {},
   "outputs": [],
   "source": [
    "# 크롤링 유용정보\n",
    "# ai 댓글봇 정보\n",
    "# //*[@id=\"story-comments\"]/div/div/div[1]/div[1]/span[1]/div\n",
    "\n",
    "# 전문답변\n",
    "# //*[@id=\"__next\"]/div/div[3]/div/div[2]/div/div[79]/div/div[1]/div[1]/div[1]\n",
    "# 윤수진 코치 님의 전문답변 # 전문답변이라는 문장이 있는 cell의 내용을 긁어오기\n",
    "\n",
    "# 게시글\n",
    "# //*[@id=\"__next\"]/div/div[2]/div[2]/div[2] # 메인글 안에 main_title, main_contents, main_hashtags\n",
    "\n",
    "# 답변\n",
    "# //*[@id=\"story-comments\"]/div/div[1]/div[1]/div[1]/div[2] 여기에 '전문답변' 글 있으면 ok\n",
    "# //*[@id=\"story-comments\"]/div/div[1]/div[2]/div # class 가 counselling임 전문가만 그런건지 확인\n",
    "# 전문가만 답변 class == counselling임, 일반인은 class == comment임"
   ]
  },
  {
   "cell_type": "code",
   "execution_count": null,
   "metadata": {},
   "outputs": [],
   "source": []
  },
  {
   "cell_type": "code",
   "execution_count": null,
   "metadata": {},
   "outputs": [],
   "source": []
  }
 ],
 "metadata": {
  "kernelspec": {
   "display_name": "Python 3.9.7 ('base')",
   "language": "python",
   "name": "python3"
  },
  "language_info": {
   "codemirror_mode": {
    "name": "ipython",
    "version": 3
   },
   "file_extension": ".py",
   "mimetype": "text/x-python",
   "name": "python",
   "nbconvert_exporter": "python",
   "pygments_lexer": "ipython3",
   "version": "3.9.7"
  },
  "orig_nbformat": 4,
  "vscode": {
   "interpreter": {
    "hash": "649746771d3c183382e0589b2e783e42b21b577ff546990e9332042e17a01026"
   }
  }
 },
 "nbformat": 4,
 "nbformat_minor": 2
}
