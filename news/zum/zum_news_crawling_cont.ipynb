{
 "cells": [
  {
   "cell_type": "code",
   "execution_count": 1,
   "metadata": {},
   "outputs": [
    {
     "name": "stderr",
     "output_type": "stream",
     "text": [
      "/usr/lib/python3/dist-packages/requests/__init__.py:89: RequestsDependencyWarning: urllib3 (1.26.9) or chardet (3.0.4) doesn't match a supported version!\n",
      "  warnings.warn(\"urllib3 ({}) or chardet ({}) doesn't match a supported \"\n"
     ]
    }
   ],
   "source": [
    "import glob, json, os, re, sys\n",
    "\n",
    "import pandas as pd\n",
    "\n",
    "import requests\n",
    "from bs4 import BeautifulSoup\n",
    "\n",
    "from datetime import datetime\n",
    "\n",
    "from tqdm.auto import tqdm\n",
    "\n",
    "if '/mnt/workspace/lm/KoELECTRA/finetune/KoBigBird-master/finetune/ai_analyst_api/crawler' not in sys.path:\n",
    "    sys.path.append('/mnt/workspace/lm/KoELECTRA/finetune/KoBigBird-master/finetune/ai_analyst_api/crawler')\n",
    "\n",
    "from zum_news_crawling_jw import Crawler\n",
    "crawler = Crawler()"
   ]
  },
  {
   "cell_type": "code",
   "execution_count": 6,
   "metadata": {},
   "outputs": [
    {
     "name": "stdout",
     "output_type": "stream",
     "text": [
      "NICE평가정보       030190\n",
      "-----------------ZOOM 금융 신문기사 수집을 시작합니다. -----------------\n",
      "030190\n",
      "[datetime.date(2022, 8, 23), datetime.date(2022, 7, 29), datetime.date(2022, 7, 12), datetime.date(2022, 7, 7), datetime.date(2022, 6, 17), datetime.date(2022, 5, 25), datetime.date(2022, 5, 9), datetime.date(2022, 4, 20), datetime.date(2022, 4, 6)]\n",
      "크롤링 할 링크 수:  9\n",
      "NICE평가정보   탄다\n",
      "크롤링 기사 개수:  2\n",
      "----------------- ZOOM 투자 신문기사 수집을 완료하였습니다. -----------------\n"
     ]
    }
   ],
   "source": [
    "# temp_df, date_tuple = crawler.convert_to_code('NICE평가정보',30)\n",
    "\n",
    "# date_to_compare_b = datetime.strptime(\"20220525\", \"%Y%m%d\")\n",
    "# date_to_compare_e = datetime.strptime(\"20220823\", \"%Y%m%d\")\n",
    "# date_to_compare_e-date_to_compare_b\n",
    "\n",
    "# pd.to_datetime(temp_df['날짜'][0])-pd.to_datetime(temp_df['날짜'][-1:])"
   ]
  },
  {
   "cell_type": "code",
   "execution_count": 4,
   "metadata": {},
   "outputs": [
    {
     "data": {
      "application/vnd.jupyter.widget-view+json": {
       "model_id": "02dfb801c38047e791dbaa77b9992437",
       "version_major": 2,
       "version_minor": 0
      },
      "text/plain": [
       "  0%|          | 0/2643 [00:00<?, ?it/s]"
      ]
     },
     "metadata": {},
     "output_type": "display_data"
    }
   ],
   "source": [
    "years = 5\n",
    "year_or_days = str\n",
    "if years > 0:\n",
    "    days = 365*years\n",
    "    year_or_days = 'years'\n",
    "else:\n",
    "    days = 30\n",
    "    years = days # 저장할 이름용\n",
    "    year_or_days = 'days'    \n",
    "\n",
    "data = pd.read_csv('/home/aift-ml/workspace/lm/KoELECTRA/finetune/KoBigBird-master/finetune/ai_analyst_api/crawler/resource/company_list.txt', dtype=str, sep='\\t')\n",
    "for company in tqdm(data['회사명'][:]):\n",
    "    temp_df, date_tuple = crawler.convert_to_code(company, days)\n",
    "    temp_df.to_excel(f'./result/crawling_{company}_{years}{year_or_days}.xlsx', index=False)"
   ]
  },
  {
   "cell_type": "code",
   "execution_count": 3,
   "metadata": {},
   "outputs": [
    {
     "data": {
      "text/html": [
       "<div>\n",
       "<style scoped>\n",
       "    .dataframe tbody tr th:only-of-type {\n",
       "        vertical-align: middle;\n",
       "    }\n",
       "\n",
       "    .dataframe tbody tr th {\n",
       "        vertical-align: top;\n",
       "    }\n",
       "\n",
       "    .dataframe thead th {\n",
       "        text-align: right;\n",
       "    }\n",
       "</style>\n",
       "<table border=\"1\" class=\"dataframe\">\n",
       "  <thead>\n",
       "    <tr style=\"text-align: right;\">\n",
       "      <th></th>\n",
       "      <th>날짜</th>\n",
       "      <th>언론사</th>\n",
       "      <th>기사제목</th>\n",
       "      <th>내용</th>\n",
       "      <th>링크</th>\n",
       "      <th>회사명</th>\n",
       "      <th>종목코드</th>\n",
       "    </tr>\n",
       "  </thead>\n",
       "  <tbody>\n",
       "    <tr>\n",
       "      <th>0</th>\n",
       "      <td>2022.02.07 11:43</td>\n",
       "      <td>뉴시스</td>\n",
       "      <td>마이크로컨텍솔, 지난해 영업익 81억…전년比 392%↑</td>\n",
       "      <td>[서울=뉴시스] 류병화 기자 = 마이크로컨텍솔은 연결 기준 지난해 영업이익이 81억...</td>\n",
       "      <td>http://news.zum.com/articles/73604803</td>\n",
       "      <td>마이크로컨텍솔</td>\n",
       "      <td>98120</td>\n",
       "    </tr>\n",
       "    <tr>\n",
       "      <th>1</th>\n",
       "      <td>2022.02.07 10:40</td>\n",
       "      <td>이투데이</td>\n",
       "      <td>[공시] 마이크로컨텍솔, 지난해 영업이익 81억…전년 대비 392%↑</td>\n",
       "      <td>마이크로컨텍솔은 7일 지난해 연결 영업이익이 81억3200만 원으로 전년 대비 39...</td>\n",
       "      <td>http://news.zum.com/articles/73602333</td>\n",
       "      <td>마이크로컨텍솔</td>\n",
       "      <td>98120</td>\n",
       "    </tr>\n",
       "    <tr>\n",
       "      <th>2</th>\n",
       "      <td>2022.02.07 10:17</td>\n",
       "      <td>이데일리</td>\n",
       "      <td>마이크로컨텍솔, 작년 영업익 81억원…전년比 392%↑</td>\n",
       "      <td>[이데일리 김인경 기자] 마이크로컨텍솔(098120)은 지난해 연결 기준 영업이익이...</td>\n",
       "      <td>http://news.zum.com/articles/73601301</td>\n",
       "      <td>마이크로컨텍솔</td>\n",
       "      <td>98120</td>\n",
       "    </tr>\n",
       "  </tbody>\n",
       "</table>\n",
       "</div>"
      ],
      "text/plain": [
       "                 날짜   언론사                                    기사제목  \\\n",
       "0  2022.02.07 11:43   뉴시스          마이크로컨텍솔, 지난해 영업익 81억…전년比 392%↑   \n",
       "1  2022.02.07 10:40  이투데이  [공시] 마이크로컨텍솔, 지난해 영업이익 81억…전년 대비 392%↑   \n",
       "2  2022.02.07 10:17  이데일리          마이크로컨텍솔, 작년 영업익 81억원…전년比 392%↑   \n",
       "\n",
       "                                                  내용  \\\n",
       "0  [서울=뉴시스] 류병화 기자 = 마이크로컨텍솔은 연결 기준 지난해 영업이익이 81억...   \n",
       "1  마이크로컨텍솔은 7일 지난해 연결 영업이익이 81억3200만 원으로 전년 대비 39...   \n",
       "2  [이데일리 김인경 기자] 마이크로컨텍솔(098120)은 지난해 연결 기준 영업이익이...   \n",
       "\n",
       "                                      링크      회사명   종목코드  \n",
       "0  http://news.zum.com/articles/73604803  마이크로컨텍솔  98120  \n",
       "1  http://news.zum.com/articles/73602333  마이크로컨텍솔  98120  \n",
       "2  http://news.zum.com/articles/73601301  마이크로컨텍솔  98120  "
      ]
     },
     "execution_count": 3,
     "metadata": {},
     "output_type": "execute_result"
    }
   ],
   "source": [
    "# pd.read_excel('./result/crawling_마이크로컨텍솔_30days.xlsx')"
   ]
  },
  {
   "cell_type": "code",
   "execution_count": null,
   "metadata": {},
   "outputs": [],
   "source": []
  }
 ],
 "metadata": {
  "kernelspec": {
   "display_name": "Python 3.9.7 ('base')",
   "language": "python",
   "name": "python3"
  },
  "language_info": {
   "codemirror_mode": {
    "name": "ipython",
    "version": 3
   },
   "file_extension": ".py",
   "mimetype": "text/x-python",
   "name": "python",
   "nbconvert_exporter": "python",
   "pygments_lexer": "ipython3",
   "version": "3.9.7"
  },
  "orig_nbformat": 4,
  "vscode": {
   "interpreter": {
    "hash": "649746771d3c183382e0589b2e783e42b21b577ff546990e9332042e17a01026"
   }
  }
 },
 "nbformat": 4,
 "nbformat_minor": 2
}
